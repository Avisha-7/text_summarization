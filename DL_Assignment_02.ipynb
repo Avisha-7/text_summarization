{
  "nbformat": 4,
  "nbformat_minor": 0,
  "metadata": {
    "colab": {
      "name": "DL Assignment 02.ipynb",
      "provenance": [],
      "collapsed_sections": []
    },
    "kernelspec": {
      "name": "python3",
      "display_name": "Python 3"
    },
    "language_info": {
      "name": "python"
    },
    "accelerator": "TPU",
    "widgets": {
      "application/vnd.jupyter.widget-state+json": {
        "eb2ce63d287a4080b1e58d51b8c57f5d": {
          "model_module": "@jupyter-widgets/controls",
          "model_name": "HBoxModel",
          "model_module_version": "1.5.0",
          "state": {
            "_dom_classes": [],
            "_model_module": "@jupyter-widgets/controls",
            "_model_module_version": "1.5.0",
            "_model_name": "HBoxModel",
            "_view_count": null,
            "_view_module": "@jupyter-widgets/controls",
            "_view_module_version": "1.5.0",
            "_view_name": "HBoxView",
            "box_style": "",
            "children": [
              "IPY_MODEL_86811703d7244e14aeb226f4fb20dd94",
              "IPY_MODEL_d21534b216ec40cf82fc96d46a3e097f"
            ],
            "layout": "IPY_MODEL_968a19f776d94c3e9440289211c360ce"
          }
        },
        "86811703d7244e14aeb226f4fb20dd94": {
          "model_module": "@jupyter-widgets/controls",
          "model_name": "FloatProgressModel",
          "model_module_version": "1.5.0",
          "state": {
            "_dom_classes": [],
            "_model_module": "@jupyter-widgets/controls",
            "_model_module_version": "1.5.0",
            "_model_name": "FloatProgressModel",
            "_view_count": null,
            "_view_module": "@jupyter-widgets/controls",
            "_view_module_version": "1.5.0",
            "_view_name": "ProgressView",
            "bar_style": "success",
            "description": "Downloading: ",
            "description_tooltip": null,
            "layout": "IPY_MODEL_5c57b0c2895b466abb7be5417317d14e",
            "max": 2170,
            "min": 0,
            "orientation": "horizontal",
            "style": "IPY_MODEL_a58c8b4cbac5412eb2f98238e0722a56",
            "value": 2170
          }
        },
        "d21534b216ec40cf82fc96d46a3e097f": {
          "model_module": "@jupyter-widgets/controls",
          "model_name": "HTMLModel",
          "model_module_version": "1.5.0",
          "state": {
            "_dom_classes": [],
            "_model_module": "@jupyter-widgets/controls",
            "_model_module_version": "1.5.0",
            "_model_name": "HTMLModel",
            "_view_count": null,
            "_view_module": "@jupyter-widgets/controls",
            "_view_module_version": "1.5.0",
            "_view_name": "HTMLView",
            "description": "",
            "description_tooltip": null,
            "layout": "IPY_MODEL_ce19d4a508de4e26a70737a1e95410c1",
            "placeholder": "​",
            "style": "IPY_MODEL_f3b2e34b7b384de287b8b148694b1686",
            "value": " 5.61k/? [00:00&lt;00:00, 12.6kB/s]"
          }
        },
        "968a19f776d94c3e9440289211c360ce": {
          "model_module": "@jupyter-widgets/base",
          "model_name": "LayoutModel",
          "model_module_version": "1.2.0",
          "state": {
            "_model_module": "@jupyter-widgets/base",
            "_model_module_version": "1.2.0",
            "_model_name": "LayoutModel",
            "_view_count": null,
            "_view_module": "@jupyter-widgets/base",
            "_view_module_version": "1.2.0",
            "_view_name": "LayoutView",
            "align_content": null,
            "align_items": null,
            "align_self": null,
            "border": null,
            "bottom": null,
            "display": null,
            "flex": null,
            "flex_flow": null,
            "grid_area": null,
            "grid_auto_columns": null,
            "grid_auto_flow": null,
            "grid_auto_rows": null,
            "grid_column": null,
            "grid_gap": null,
            "grid_row": null,
            "grid_template_areas": null,
            "grid_template_columns": null,
            "grid_template_rows": null,
            "height": null,
            "justify_content": null,
            "justify_items": null,
            "left": null,
            "margin": null,
            "max_height": null,
            "max_width": null,
            "min_height": null,
            "min_width": null,
            "object_fit": null,
            "object_position": null,
            "order": null,
            "overflow": null,
            "overflow_x": null,
            "overflow_y": null,
            "padding": null,
            "right": null,
            "top": null,
            "visibility": null,
            "width": null
          }
        },
        "5c57b0c2895b466abb7be5417317d14e": {
          "model_module": "@jupyter-widgets/base",
          "model_name": "LayoutModel",
          "model_module_version": "1.2.0",
          "state": {
            "_model_module": "@jupyter-widgets/base",
            "_model_module_version": "1.2.0",
            "_model_name": "LayoutModel",
            "_view_count": null,
            "_view_module": "@jupyter-widgets/base",
            "_view_module_version": "1.2.0",
            "_view_name": "LayoutView",
            "align_content": null,
            "align_items": null,
            "align_self": null,
            "border": null,
            "bottom": null,
            "display": null,
            "flex": null,
            "flex_flow": null,
            "grid_area": null,
            "grid_auto_columns": null,
            "grid_auto_flow": null,
            "grid_auto_rows": null,
            "grid_column": null,
            "grid_gap": null,
            "grid_row": null,
            "grid_template_areas": null,
            "grid_template_columns": null,
            "grid_template_rows": null,
            "height": null,
            "justify_content": null,
            "justify_items": null,
            "left": null,
            "margin": null,
            "max_height": null,
            "max_width": null,
            "min_height": null,
            "min_width": null,
            "object_fit": null,
            "object_position": null,
            "order": null,
            "overflow": null,
            "overflow_x": null,
            "overflow_y": null,
            "padding": null,
            "right": null,
            "top": null,
            "visibility": null,
            "width": null
          }
        },
        "a58c8b4cbac5412eb2f98238e0722a56": {
          "model_module": "@jupyter-widgets/controls",
          "model_name": "ProgressStyleModel",
          "model_module_version": "1.5.0",
          "state": {
            "_model_module": "@jupyter-widgets/controls",
            "_model_module_version": "1.5.0",
            "_model_name": "ProgressStyleModel",
            "_view_count": null,
            "_view_module": "@jupyter-widgets/base",
            "_view_module_version": "1.2.0",
            "_view_name": "StyleView",
            "bar_color": null,
            "description_width": "initial"
          }
        },
        "ce19d4a508de4e26a70737a1e95410c1": {
          "model_module": "@jupyter-widgets/base",
          "model_name": "LayoutModel",
          "model_module_version": "1.2.0",
          "state": {
            "_model_module": "@jupyter-widgets/base",
            "_model_module_version": "1.2.0",
            "_model_name": "LayoutModel",
            "_view_count": null,
            "_view_module": "@jupyter-widgets/base",
            "_view_module_version": "1.2.0",
            "_view_name": "LayoutView",
            "align_content": null,
            "align_items": null,
            "align_self": null,
            "border": null,
            "bottom": null,
            "display": null,
            "flex": null,
            "flex_flow": null,
            "grid_area": null,
            "grid_auto_columns": null,
            "grid_auto_flow": null,
            "grid_auto_rows": null,
            "grid_column": null,
            "grid_gap": null,
            "grid_row": null,
            "grid_template_areas": null,
            "grid_template_columns": null,
            "grid_template_rows": null,
            "height": null,
            "justify_content": null,
            "justify_items": null,
            "left": null,
            "margin": null,
            "max_height": null,
            "max_width": null,
            "min_height": null,
            "min_width": null,
            "object_fit": null,
            "object_position": null,
            "order": null,
            "overflow": null,
            "overflow_x": null,
            "overflow_y": null,
            "padding": null,
            "right": null,
            "top": null,
            "visibility": null,
            "width": null
          }
        },
        "f3b2e34b7b384de287b8b148694b1686": {
          "model_module": "@jupyter-widgets/controls",
          "model_name": "DescriptionStyleModel",
          "model_module_version": "1.5.0",
          "state": {
            "_model_module": "@jupyter-widgets/controls",
            "_model_module_version": "1.5.0",
            "_model_name": "DescriptionStyleModel",
            "_view_count": null,
            "_view_module": "@jupyter-widgets/base",
            "_view_module_version": "1.2.0",
            "_view_name": "StyleView",
            "description_width": ""
          }
        },
        "1680bb467f2b41c4bf6df99532a7d744": {
          "model_module": "@jupyter-widgets/controls",
          "model_name": "HBoxModel",
          "model_module_version": "1.5.0",
          "state": {
            "_dom_classes": [],
            "_model_module": "@jupyter-widgets/controls",
            "_model_module_version": "1.5.0",
            "_model_name": "HBoxModel",
            "_view_count": null,
            "_view_module": "@jupyter-widgets/controls",
            "_view_module_version": "1.5.0",
            "_view_name": "HBoxView",
            "box_style": "",
            "children": [
              "IPY_MODEL_de17807cca724fd580b34ea5306fca6f",
              "IPY_MODEL_503e238f5a604bfeb2756cec6b012f79"
            ],
            "layout": "IPY_MODEL_3b832d3bb3bf4432a6e5625e0490d2c7"
          }
        },
        "de17807cca724fd580b34ea5306fca6f": {
          "model_module": "@jupyter-widgets/controls",
          "model_name": "FloatProgressModel",
          "model_module_version": "1.5.0",
          "state": {
            "_dom_classes": [],
            "_model_module": "@jupyter-widgets/controls",
            "_model_module_version": "1.5.0",
            "_model_name": "FloatProgressModel",
            "_view_count": null,
            "_view_module": "@jupyter-widgets/controls",
            "_view_module_version": "1.5.0",
            "_view_name": "ProgressView",
            "bar_style": "success",
            "description": "Downloading: 100%",
            "description_tooltip": null,
            "layout": "IPY_MODEL_70e56e1a9a4e40d08d5d8705b02db5d8",
            "max": 1199,
            "min": 0,
            "orientation": "horizontal",
            "style": "IPY_MODEL_44d7011110934ab386698f6b3601fad4",
            "value": 1199
          }
        },
        "503e238f5a604bfeb2756cec6b012f79": {
          "model_module": "@jupyter-widgets/controls",
          "model_name": "HTMLModel",
          "model_module_version": "1.5.0",
          "state": {
            "_dom_classes": [],
            "_model_module": "@jupyter-widgets/controls",
            "_model_module_version": "1.5.0",
            "_model_name": "HTMLModel",
            "_view_count": null,
            "_view_module": "@jupyter-widgets/controls",
            "_view_module_version": "1.5.0",
            "_view_name": "HTMLView",
            "description": "",
            "description_tooltip": null,
            "layout": "IPY_MODEL_bd403bbb1c34468a83dd1d9a366e1ed2",
            "placeholder": "​",
            "style": "IPY_MODEL_15b89ad212d949d88710cf9720774c6a",
            "value": " 1.20k/1.20k [00:20&lt;00:00, 57.5B/s]"
          }
        },
        "3b832d3bb3bf4432a6e5625e0490d2c7": {
          "model_module": "@jupyter-widgets/base",
          "model_name": "LayoutModel",
          "model_module_version": "1.2.0",
          "state": {
            "_model_module": "@jupyter-widgets/base",
            "_model_module_version": "1.2.0",
            "_model_name": "LayoutModel",
            "_view_count": null,
            "_view_module": "@jupyter-widgets/base",
            "_view_module_version": "1.2.0",
            "_view_name": "LayoutView",
            "align_content": null,
            "align_items": null,
            "align_self": null,
            "border": null,
            "bottom": null,
            "display": null,
            "flex": null,
            "flex_flow": null,
            "grid_area": null,
            "grid_auto_columns": null,
            "grid_auto_flow": null,
            "grid_auto_rows": null,
            "grid_column": null,
            "grid_gap": null,
            "grid_row": null,
            "grid_template_areas": null,
            "grid_template_columns": null,
            "grid_template_rows": null,
            "height": null,
            "justify_content": null,
            "justify_items": null,
            "left": null,
            "margin": null,
            "max_height": null,
            "max_width": null,
            "min_height": null,
            "min_width": null,
            "object_fit": null,
            "object_position": null,
            "order": null,
            "overflow": null,
            "overflow_x": null,
            "overflow_y": null,
            "padding": null,
            "right": null,
            "top": null,
            "visibility": null,
            "width": null
          }
        },
        "70e56e1a9a4e40d08d5d8705b02db5d8": {
          "model_module": "@jupyter-widgets/base",
          "model_name": "LayoutModel",
          "model_module_version": "1.2.0",
          "state": {
            "_model_module": "@jupyter-widgets/base",
            "_model_module_version": "1.2.0",
            "_model_name": "LayoutModel",
            "_view_count": null,
            "_view_module": "@jupyter-widgets/base",
            "_view_module_version": "1.2.0",
            "_view_name": "LayoutView",
            "align_content": null,
            "align_items": null,
            "align_self": null,
            "border": null,
            "bottom": null,
            "display": null,
            "flex": null,
            "flex_flow": null,
            "grid_area": null,
            "grid_auto_columns": null,
            "grid_auto_flow": null,
            "grid_auto_rows": null,
            "grid_column": null,
            "grid_gap": null,
            "grid_row": null,
            "grid_template_areas": null,
            "grid_template_columns": null,
            "grid_template_rows": null,
            "height": null,
            "justify_content": null,
            "justify_items": null,
            "left": null,
            "margin": null,
            "max_height": null,
            "max_width": null,
            "min_height": null,
            "min_width": null,
            "object_fit": null,
            "object_position": null,
            "order": null,
            "overflow": null,
            "overflow_x": null,
            "overflow_y": null,
            "padding": null,
            "right": null,
            "top": null,
            "visibility": null,
            "width": null
          }
        },
        "44d7011110934ab386698f6b3601fad4": {
          "model_module": "@jupyter-widgets/controls",
          "model_name": "ProgressStyleModel",
          "model_module_version": "1.5.0",
          "state": {
            "_model_module": "@jupyter-widgets/controls",
            "_model_module_version": "1.5.0",
            "_model_name": "ProgressStyleModel",
            "_view_count": null,
            "_view_module": "@jupyter-widgets/base",
            "_view_module_version": "1.2.0",
            "_view_name": "StyleView",
            "bar_color": null,
            "description_width": "initial"
          }
        },
        "bd403bbb1c34468a83dd1d9a366e1ed2": {
          "model_module": "@jupyter-widgets/base",
          "model_name": "LayoutModel",
          "model_module_version": "1.2.0",
          "state": {
            "_model_module": "@jupyter-widgets/base",
            "_model_module_version": "1.2.0",
            "_model_name": "LayoutModel",
            "_view_count": null,
            "_view_module": "@jupyter-widgets/base",
            "_view_module_version": "1.2.0",
            "_view_name": "LayoutView",
            "align_content": null,
            "align_items": null,
            "align_self": null,
            "border": null,
            "bottom": null,
            "display": null,
            "flex": null,
            "flex_flow": null,
            "grid_area": null,
            "grid_auto_columns": null,
            "grid_auto_flow": null,
            "grid_auto_rows": null,
            "grid_column": null,
            "grid_gap": null,
            "grid_row": null,
            "grid_template_areas": null,
            "grid_template_columns": null,
            "grid_template_rows": null,
            "height": null,
            "justify_content": null,
            "justify_items": null,
            "left": null,
            "margin": null,
            "max_height": null,
            "max_width": null,
            "min_height": null,
            "min_width": null,
            "object_fit": null,
            "object_position": null,
            "order": null,
            "overflow": null,
            "overflow_x": null,
            "overflow_y": null,
            "padding": null,
            "right": null,
            "top": null,
            "visibility": null,
            "width": null
          }
        },
        "15b89ad212d949d88710cf9720774c6a": {
          "model_module": "@jupyter-widgets/controls",
          "model_name": "DescriptionStyleModel",
          "model_module_version": "1.5.0",
          "state": {
            "_model_module": "@jupyter-widgets/controls",
            "_model_module_version": "1.5.0",
            "_model_name": "DescriptionStyleModel",
            "_view_count": null,
            "_view_module": "@jupyter-widgets/base",
            "_view_module_version": "1.2.0",
            "_view_name": "StyleView",
            "description_width": ""
          }
        },
        "60e27508b1f74169bcb46239112a43b1": {
          "model_module": "@jupyter-widgets/controls",
          "model_name": "HBoxModel",
          "model_module_version": "1.5.0",
          "state": {
            "_dom_classes": [],
            "_model_module": "@jupyter-widgets/controls",
            "_model_module_version": "1.5.0",
            "_model_name": "HBoxModel",
            "_view_count": null,
            "_view_module": "@jupyter-widgets/controls",
            "_view_module_version": "1.5.0",
            "_view_name": "HBoxView",
            "box_style": "",
            "children": [
              "IPY_MODEL_a342e037a77543d88d12f0a849be715e",
              "IPY_MODEL_08834fe05e3847c8b51913357a21f6d4"
            ],
            "layout": "IPY_MODEL_8930fb2f2ba946dc82c36e76abafb991"
          }
        },
        "a342e037a77543d88d12f0a849be715e": {
          "model_module": "@jupyter-widgets/controls",
          "model_name": "FloatProgressModel",
          "model_module_version": "1.5.0",
          "state": {
            "_dom_classes": [],
            "_model_module": "@jupyter-widgets/controls",
            "_model_module_version": "1.5.0",
            "_model_name": "FloatProgressModel",
            "_view_count": null,
            "_view_module": "@jupyter-widgets/controls",
            "_view_module_version": "1.5.0",
            "_view_name": "ProgressView",
            "bar_style": "success",
            "description": "Downloading: 100%",
            "description_tooltip": null,
            "layout": "IPY_MODEL_44bd0a507da3410ab357b21276cc07c6",
            "max": 892146080,
            "min": 0,
            "orientation": "horizontal",
            "style": "IPY_MODEL_64f3bbe17c344a579cc3411efc94fa30",
            "value": 892146080
          }
        },
        "08834fe05e3847c8b51913357a21f6d4": {
          "model_module": "@jupyter-widgets/controls",
          "model_name": "HTMLModel",
          "model_module_version": "1.5.0",
          "state": {
            "_dom_classes": [],
            "_model_module": "@jupyter-widgets/controls",
            "_model_module_version": "1.5.0",
            "_model_name": "HTMLModel",
            "_view_count": null,
            "_view_module": "@jupyter-widgets/controls",
            "_view_module_version": "1.5.0",
            "_view_name": "HTMLView",
            "description": "",
            "description_tooltip": null,
            "layout": "IPY_MODEL_d4cd4093a6364493b0a293c330559122",
            "placeholder": "​",
            "style": "IPY_MODEL_46c06741e97e4132917a44b2cfae0100",
            "value": " 892M/892M [00:20&lt;00:00, 43.4MB/s]"
          }
        },
        "8930fb2f2ba946dc82c36e76abafb991": {
          "model_module": "@jupyter-widgets/base",
          "model_name": "LayoutModel",
          "model_module_version": "1.2.0",
          "state": {
            "_model_module": "@jupyter-widgets/base",
            "_model_module_version": "1.2.0",
            "_model_name": "LayoutModel",
            "_view_count": null,
            "_view_module": "@jupyter-widgets/base",
            "_view_module_version": "1.2.0",
            "_view_name": "LayoutView",
            "align_content": null,
            "align_items": null,
            "align_self": null,
            "border": null,
            "bottom": null,
            "display": null,
            "flex": null,
            "flex_flow": null,
            "grid_area": null,
            "grid_auto_columns": null,
            "grid_auto_flow": null,
            "grid_auto_rows": null,
            "grid_column": null,
            "grid_gap": null,
            "grid_row": null,
            "grid_template_areas": null,
            "grid_template_columns": null,
            "grid_template_rows": null,
            "height": null,
            "justify_content": null,
            "justify_items": null,
            "left": null,
            "margin": null,
            "max_height": null,
            "max_width": null,
            "min_height": null,
            "min_width": null,
            "object_fit": null,
            "object_position": null,
            "order": null,
            "overflow": null,
            "overflow_x": null,
            "overflow_y": null,
            "padding": null,
            "right": null,
            "top": null,
            "visibility": null,
            "width": null
          }
        },
        "44bd0a507da3410ab357b21276cc07c6": {
          "model_module": "@jupyter-widgets/base",
          "model_name": "LayoutModel",
          "model_module_version": "1.2.0",
          "state": {
            "_model_module": "@jupyter-widgets/base",
            "_model_module_version": "1.2.0",
            "_model_name": "LayoutModel",
            "_view_count": null,
            "_view_module": "@jupyter-widgets/base",
            "_view_module_version": "1.2.0",
            "_view_name": "LayoutView",
            "align_content": null,
            "align_items": null,
            "align_self": null,
            "border": null,
            "bottom": null,
            "display": null,
            "flex": null,
            "flex_flow": null,
            "grid_area": null,
            "grid_auto_columns": null,
            "grid_auto_flow": null,
            "grid_auto_rows": null,
            "grid_column": null,
            "grid_gap": null,
            "grid_row": null,
            "grid_template_areas": null,
            "grid_template_columns": null,
            "grid_template_rows": null,
            "height": null,
            "justify_content": null,
            "justify_items": null,
            "left": null,
            "margin": null,
            "max_height": null,
            "max_width": null,
            "min_height": null,
            "min_width": null,
            "object_fit": null,
            "object_position": null,
            "order": null,
            "overflow": null,
            "overflow_x": null,
            "overflow_y": null,
            "padding": null,
            "right": null,
            "top": null,
            "visibility": null,
            "width": null
          }
        },
        "64f3bbe17c344a579cc3411efc94fa30": {
          "model_module": "@jupyter-widgets/controls",
          "model_name": "ProgressStyleModel",
          "model_module_version": "1.5.0",
          "state": {
            "_model_module": "@jupyter-widgets/controls",
            "_model_module_version": "1.5.0",
            "_model_name": "ProgressStyleModel",
            "_view_count": null,
            "_view_module": "@jupyter-widgets/base",
            "_view_module_version": "1.2.0",
            "_view_name": "StyleView",
            "bar_color": null,
            "description_width": "initial"
          }
        },
        "d4cd4093a6364493b0a293c330559122": {
          "model_module": "@jupyter-widgets/base",
          "model_name": "LayoutModel",
          "model_module_version": "1.2.0",
          "state": {
            "_model_module": "@jupyter-widgets/base",
            "_model_module_version": "1.2.0",
            "_model_name": "LayoutModel",
            "_view_count": null,
            "_view_module": "@jupyter-widgets/base",
            "_view_module_version": "1.2.0",
            "_view_name": "LayoutView",
            "align_content": null,
            "align_items": null,
            "align_self": null,
            "border": null,
            "bottom": null,
            "display": null,
            "flex": null,
            "flex_flow": null,
            "grid_area": null,
            "grid_auto_columns": null,
            "grid_auto_flow": null,
            "grid_auto_rows": null,
            "grid_column": null,
            "grid_gap": null,
            "grid_row": null,
            "grid_template_areas": null,
            "grid_template_columns": null,
            "grid_template_rows": null,
            "height": null,
            "justify_content": null,
            "justify_items": null,
            "left": null,
            "margin": null,
            "max_height": null,
            "max_width": null,
            "min_height": null,
            "min_width": null,
            "object_fit": null,
            "object_position": null,
            "order": null,
            "overflow": null,
            "overflow_x": null,
            "overflow_y": null,
            "padding": null,
            "right": null,
            "top": null,
            "visibility": null,
            "width": null
          }
        },
        "46c06741e97e4132917a44b2cfae0100": {
          "model_module": "@jupyter-widgets/controls",
          "model_name": "DescriptionStyleModel",
          "model_module_version": "1.5.0",
          "state": {
            "_model_module": "@jupyter-widgets/controls",
            "_model_module_version": "1.5.0",
            "_model_name": "DescriptionStyleModel",
            "_view_count": null,
            "_view_module": "@jupyter-widgets/base",
            "_view_module_version": "1.2.0",
            "_view_name": "StyleView",
            "description_width": ""
          }
        },
        "60caed451241431cacd2daf0c0ae5484": {
          "model_module": "@jupyter-widgets/controls",
          "model_name": "HBoxModel",
          "model_module_version": "1.5.0",
          "state": {
            "_dom_classes": [],
            "_model_module": "@jupyter-widgets/controls",
            "_model_module_version": "1.5.0",
            "_model_name": "HBoxModel",
            "_view_count": null,
            "_view_module": "@jupyter-widgets/controls",
            "_view_module_version": "1.5.0",
            "_view_name": "HBoxView",
            "box_style": "",
            "children": [
              "IPY_MODEL_0b5374cfbda34a3683fbb6cad63d2a37",
              "IPY_MODEL_9df4fa4af78447f7ae243628a378f552"
            ],
            "layout": "IPY_MODEL_6dea5b7e413b4a8d95b6c23ad3c952e6"
          }
        },
        "0b5374cfbda34a3683fbb6cad63d2a37": {
          "model_module": "@jupyter-widgets/controls",
          "model_name": "FloatProgressModel",
          "model_module_version": "1.5.0",
          "state": {
            "_dom_classes": [],
            "_model_module": "@jupyter-widgets/controls",
            "_model_module_version": "1.5.0",
            "_model_name": "FloatProgressModel",
            "_view_count": null,
            "_view_module": "@jupyter-widgets/controls",
            "_view_module_version": "1.5.0",
            "_view_name": "ProgressView",
            "bar_style": "success",
            "description": "Downloading: 100%",
            "description_tooltip": null,
            "layout": "IPY_MODEL_d04cefbb7e2d4cb1b8dfc5ae777e795b",
            "max": 791656,
            "min": 0,
            "orientation": "horizontal",
            "style": "IPY_MODEL_3da207a0711b4f27a953542e5b82051f",
            "value": 791656
          }
        },
        "9df4fa4af78447f7ae243628a378f552": {
          "model_module": "@jupyter-widgets/controls",
          "model_name": "HTMLModel",
          "model_module_version": "1.5.0",
          "state": {
            "_dom_classes": [],
            "_model_module": "@jupyter-widgets/controls",
            "_model_module_version": "1.5.0",
            "_model_name": "HTMLModel",
            "_view_count": null,
            "_view_module": "@jupyter-widgets/controls",
            "_view_module_version": "1.5.0",
            "_view_name": "HTMLView",
            "description": "",
            "description_tooltip": null,
            "layout": "IPY_MODEL_8e460b33c02a48fd8947696b68dbaeb6",
            "placeholder": "​",
            "style": "IPY_MODEL_3c143c72c74f4a55b595ce2bfc8dba16",
            "value": " 792k/792k [00:01&lt;00:00, 758kB/s]"
          }
        },
        "6dea5b7e413b4a8d95b6c23ad3c952e6": {
          "model_module": "@jupyter-widgets/base",
          "model_name": "LayoutModel",
          "model_module_version": "1.2.0",
          "state": {
            "_model_module": "@jupyter-widgets/base",
            "_model_module_version": "1.2.0",
            "_model_name": "LayoutModel",
            "_view_count": null,
            "_view_module": "@jupyter-widgets/base",
            "_view_module_version": "1.2.0",
            "_view_name": "LayoutView",
            "align_content": null,
            "align_items": null,
            "align_self": null,
            "border": null,
            "bottom": null,
            "display": null,
            "flex": null,
            "flex_flow": null,
            "grid_area": null,
            "grid_auto_columns": null,
            "grid_auto_flow": null,
            "grid_auto_rows": null,
            "grid_column": null,
            "grid_gap": null,
            "grid_row": null,
            "grid_template_areas": null,
            "grid_template_columns": null,
            "grid_template_rows": null,
            "height": null,
            "justify_content": null,
            "justify_items": null,
            "left": null,
            "margin": null,
            "max_height": null,
            "max_width": null,
            "min_height": null,
            "min_width": null,
            "object_fit": null,
            "object_position": null,
            "order": null,
            "overflow": null,
            "overflow_x": null,
            "overflow_y": null,
            "padding": null,
            "right": null,
            "top": null,
            "visibility": null,
            "width": null
          }
        },
        "d04cefbb7e2d4cb1b8dfc5ae777e795b": {
          "model_module": "@jupyter-widgets/base",
          "model_name": "LayoutModel",
          "model_module_version": "1.2.0",
          "state": {
            "_model_module": "@jupyter-widgets/base",
            "_model_module_version": "1.2.0",
            "_model_name": "LayoutModel",
            "_view_count": null,
            "_view_module": "@jupyter-widgets/base",
            "_view_module_version": "1.2.0",
            "_view_name": "LayoutView",
            "align_content": null,
            "align_items": null,
            "align_self": null,
            "border": null,
            "bottom": null,
            "display": null,
            "flex": null,
            "flex_flow": null,
            "grid_area": null,
            "grid_auto_columns": null,
            "grid_auto_flow": null,
            "grid_auto_rows": null,
            "grid_column": null,
            "grid_gap": null,
            "grid_row": null,
            "grid_template_areas": null,
            "grid_template_columns": null,
            "grid_template_rows": null,
            "height": null,
            "justify_content": null,
            "justify_items": null,
            "left": null,
            "margin": null,
            "max_height": null,
            "max_width": null,
            "min_height": null,
            "min_width": null,
            "object_fit": null,
            "object_position": null,
            "order": null,
            "overflow": null,
            "overflow_x": null,
            "overflow_y": null,
            "padding": null,
            "right": null,
            "top": null,
            "visibility": null,
            "width": null
          }
        },
        "3da207a0711b4f27a953542e5b82051f": {
          "model_module": "@jupyter-widgets/controls",
          "model_name": "ProgressStyleModel",
          "model_module_version": "1.5.0",
          "state": {
            "_model_module": "@jupyter-widgets/controls",
            "_model_module_version": "1.5.0",
            "_model_name": "ProgressStyleModel",
            "_view_count": null,
            "_view_module": "@jupyter-widgets/base",
            "_view_module_version": "1.2.0",
            "_view_name": "StyleView",
            "bar_color": null,
            "description_width": "initial"
          }
        },
        "8e460b33c02a48fd8947696b68dbaeb6": {
          "model_module": "@jupyter-widgets/base",
          "model_name": "LayoutModel",
          "model_module_version": "1.2.0",
          "state": {
            "_model_module": "@jupyter-widgets/base",
            "_model_module_version": "1.2.0",
            "_model_name": "LayoutModel",
            "_view_count": null,
            "_view_module": "@jupyter-widgets/base",
            "_view_module_version": "1.2.0",
            "_view_name": "LayoutView",
            "align_content": null,
            "align_items": null,
            "align_self": null,
            "border": null,
            "bottom": null,
            "display": null,
            "flex": null,
            "flex_flow": null,
            "grid_area": null,
            "grid_auto_columns": null,
            "grid_auto_flow": null,
            "grid_auto_rows": null,
            "grid_column": null,
            "grid_gap": null,
            "grid_row": null,
            "grid_template_areas": null,
            "grid_template_columns": null,
            "grid_template_rows": null,
            "height": null,
            "justify_content": null,
            "justify_items": null,
            "left": null,
            "margin": null,
            "max_height": null,
            "max_width": null,
            "min_height": null,
            "min_width": null,
            "object_fit": null,
            "object_position": null,
            "order": null,
            "overflow": null,
            "overflow_x": null,
            "overflow_y": null,
            "padding": null,
            "right": null,
            "top": null,
            "visibility": null,
            "width": null
          }
        },
        "3c143c72c74f4a55b595ce2bfc8dba16": {
          "model_module": "@jupyter-widgets/controls",
          "model_name": "DescriptionStyleModel",
          "model_module_version": "1.5.0",
          "state": {
            "_model_module": "@jupyter-widgets/controls",
            "_model_module_version": "1.5.0",
            "_model_name": "DescriptionStyleModel",
            "_view_count": null,
            "_view_module": "@jupyter-widgets/base",
            "_view_module_version": "1.2.0",
            "_view_name": "StyleView",
            "description_width": ""
          }
        },
        "61296e3cad864bb9bcca43dfcab53d47": {
          "model_module": "@jupyter-widgets/controls",
          "model_name": "HBoxModel",
          "model_module_version": "1.5.0",
          "state": {
            "_dom_classes": [],
            "_model_module": "@jupyter-widgets/controls",
            "_model_module_version": "1.5.0",
            "_model_name": "HBoxModel",
            "_view_count": null,
            "_view_module": "@jupyter-widgets/controls",
            "_view_module_version": "1.5.0",
            "_view_name": "HBoxView",
            "box_style": "",
            "children": [
              "IPY_MODEL_9b2405f9bcca40dab339ba3fc5601e10",
              "IPY_MODEL_5f64c9fdbcf746b5b1d4d11eded0432c"
            ],
            "layout": "IPY_MODEL_cf5b6ba3d59c4455811ab26463bb347c"
          }
        },
        "9b2405f9bcca40dab339ba3fc5601e10": {
          "model_module": "@jupyter-widgets/controls",
          "model_name": "FloatProgressModel",
          "model_module_version": "1.5.0",
          "state": {
            "_dom_classes": [],
            "_model_module": "@jupyter-widgets/controls",
            "_model_module_version": "1.5.0",
            "_model_name": "FloatProgressModel",
            "_view_count": null,
            "_view_module": "@jupyter-widgets/controls",
            "_view_module_version": "1.5.0",
            "_view_name": "ProgressView",
            "bar_style": "success",
            "description": "Downloading: 100%",
            "description_tooltip": null,
            "layout": "IPY_MODEL_d11495f9d3c14bb5a59df7eed62951ca",
            "max": 1389353,
            "min": 0,
            "orientation": "horizontal",
            "style": "IPY_MODEL_1f3e0d6eac764c9387818217f6ec2094",
            "value": 1389353
          }
        },
        "5f64c9fdbcf746b5b1d4d11eded0432c": {
          "model_module": "@jupyter-widgets/controls",
          "model_name": "HTMLModel",
          "model_module_version": "1.5.0",
          "state": {
            "_dom_classes": [],
            "_model_module": "@jupyter-widgets/controls",
            "_model_module_version": "1.5.0",
            "_model_name": "HTMLModel",
            "_view_count": null,
            "_view_module": "@jupyter-widgets/controls",
            "_view_module_version": "1.5.0",
            "_view_name": "HTMLView",
            "description": "",
            "description_tooltip": null,
            "layout": "IPY_MODEL_c2ff350348014c4bab81c9a05e7a043f",
            "placeholder": "​",
            "style": "IPY_MODEL_8c7679b46846416cb3ae787e06dcbf03",
            "value": " 1.39M/1.39M [01:27&lt;00:00, 15.9kB/s]"
          }
        },
        "cf5b6ba3d59c4455811ab26463bb347c": {
          "model_module": "@jupyter-widgets/base",
          "model_name": "LayoutModel",
          "model_module_version": "1.2.0",
          "state": {
            "_model_module": "@jupyter-widgets/base",
            "_model_module_version": "1.2.0",
            "_model_name": "LayoutModel",
            "_view_count": null,
            "_view_module": "@jupyter-widgets/base",
            "_view_module_version": "1.2.0",
            "_view_name": "LayoutView",
            "align_content": null,
            "align_items": null,
            "align_self": null,
            "border": null,
            "bottom": null,
            "display": null,
            "flex": null,
            "flex_flow": null,
            "grid_area": null,
            "grid_auto_columns": null,
            "grid_auto_flow": null,
            "grid_auto_rows": null,
            "grid_column": null,
            "grid_gap": null,
            "grid_row": null,
            "grid_template_areas": null,
            "grid_template_columns": null,
            "grid_template_rows": null,
            "height": null,
            "justify_content": null,
            "justify_items": null,
            "left": null,
            "margin": null,
            "max_height": null,
            "max_width": null,
            "min_height": null,
            "min_width": null,
            "object_fit": null,
            "object_position": null,
            "order": null,
            "overflow": null,
            "overflow_x": null,
            "overflow_y": null,
            "padding": null,
            "right": null,
            "top": null,
            "visibility": null,
            "width": null
          }
        },
        "d11495f9d3c14bb5a59df7eed62951ca": {
          "model_module": "@jupyter-widgets/base",
          "model_name": "LayoutModel",
          "model_module_version": "1.2.0",
          "state": {
            "_model_module": "@jupyter-widgets/base",
            "_model_module_version": "1.2.0",
            "_model_name": "LayoutModel",
            "_view_count": null,
            "_view_module": "@jupyter-widgets/base",
            "_view_module_version": "1.2.0",
            "_view_name": "LayoutView",
            "align_content": null,
            "align_items": null,
            "align_self": null,
            "border": null,
            "bottom": null,
            "display": null,
            "flex": null,
            "flex_flow": null,
            "grid_area": null,
            "grid_auto_columns": null,
            "grid_auto_flow": null,
            "grid_auto_rows": null,
            "grid_column": null,
            "grid_gap": null,
            "grid_row": null,
            "grid_template_areas": null,
            "grid_template_columns": null,
            "grid_template_rows": null,
            "height": null,
            "justify_content": null,
            "justify_items": null,
            "left": null,
            "margin": null,
            "max_height": null,
            "max_width": null,
            "min_height": null,
            "min_width": null,
            "object_fit": null,
            "object_position": null,
            "order": null,
            "overflow": null,
            "overflow_x": null,
            "overflow_y": null,
            "padding": null,
            "right": null,
            "top": null,
            "visibility": null,
            "width": null
          }
        },
        "1f3e0d6eac764c9387818217f6ec2094": {
          "model_module": "@jupyter-widgets/controls",
          "model_name": "ProgressStyleModel",
          "model_module_version": "1.5.0",
          "state": {
            "_model_module": "@jupyter-widgets/controls",
            "_model_module_version": "1.5.0",
            "_model_name": "ProgressStyleModel",
            "_view_count": null,
            "_view_module": "@jupyter-widgets/base",
            "_view_module_version": "1.2.0",
            "_view_name": "StyleView",
            "bar_color": null,
            "description_width": "initial"
          }
        },
        "c2ff350348014c4bab81c9a05e7a043f": {
          "model_module": "@jupyter-widgets/base",
          "model_name": "LayoutModel",
          "model_module_version": "1.2.0",
          "state": {
            "_model_module": "@jupyter-widgets/base",
            "_model_module_version": "1.2.0",
            "_model_name": "LayoutModel",
            "_view_count": null,
            "_view_module": "@jupyter-widgets/base",
            "_view_module_version": "1.2.0",
            "_view_name": "LayoutView",
            "align_content": null,
            "align_items": null,
            "align_self": null,
            "border": null,
            "bottom": null,
            "display": null,
            "flex": null,
            "flex_flow": null,
            "grid_area": null,
            "grid_auto_columns": null,
            "grid_auto_flow": null,
            "grid_auto_rows": null,
            "grid_column": null,
            "grid_gap": null,
            "grid_row": null,
            "grid_template_areas": null,
            "grid_template_columns": null,
            "grid_template_rows": null,
            "height": null,
            "justify_content": null,
            "justify_items": null,
            "left": null,
            "margin": null,
            "max_height": null,
            "max_width": null,
            "min_height": null,
            "min_width": null,
            "object_fit": null,
            "object_position": null,
            "order": null,
            "overflow": null,
            "overflow_x": null,
            "overflow_y": null,
            "padding": null,
            "right": null,
            "top": null,
            "visibility": null,
            "width": null
          }
        },
        "8c7679b46846416cb3ae787e06dcbf03": {
          "model_module": "@jupyter-widgets/controls",
          "model_name": "DescriptionStyleModel",
          "model_module_version": "1.5.0",
          "state": {
            "_model_module": "@jupyter-widgets/controls",
            "_model_module_version": "1.5.0",
            "_model_name": "DescriptionStyleModel",
            "_view_count": null,
            "_view_module": "@jupyter-widgets/base",
            "_view_module_version": "1.2.0",
            "_view_name": "StyleView",
            "description_width": ""
          }
        }
      }
    }
  },
  "cells": [
    {
      "cell_type": "markdown",
      "source": [
        "# **FIRST BASELINE**"
      ],
      "metadata": {
        "id": "qPePQDFSYejq"
      }
    },
    {
      "cell_type": "code",
      "source": [
        "from google.colab import drive\n",
        "drive.mount('/content/drive')"
      ],
      "metadata": {
        "id": "bYBPNwCJUoAi"
      },
      "execution_count": null,
      "outputs": []
    },
    {
      "cell_type": "code",
      "source": [
        "pip install datasets"
      ],
      "metadata": {
        "id": "K7Iy68yPTc4G"
      },
      "execution_count": null,
      "outputs": []
    },
    {
      "cell_type": "code",
      "source": [
        "!pip install rouge_score"
      ],
      "metadata": {
        "id": "fcgzwvTpUD9u"
      },
      "execution_count": null,
      "outputs": []
    },
    {
      "cell_type": "code",
      "source": [
        "import numpy as np \n",
        "import pandas as pd \n",
        "from datasets import load_metric\n",
        "import re"
      ],
      "metadata": {
        "id": "CeOja11ohbAk"
      },
      "execution_count": null,
      "outputs": []
    },
    {
      "cell_type": "code",
      "source": [
        "df_test = pd.read_csv('/content/drive/My Drive/DL 2/test.csv')\n",
        "df_test = df_test.drop(['id'],axis=1)"
      ],
      "metadata": {
        "id": "Z_gU48Z_U1vp"
      },
      "execution_count": null,
      "outputs": []
    },
    {
      "cell_type": "code",
      "source": [
        "df_test.head()"
      ],
      "metadata": {
        "colab": {
          "base_uri": "https://localhost:8080/",
          "height": 206
        },
        "id": "xBJw7SkSVHdj",
        "outputId": "060d8447-0d98-4488-bfc4-388cdd8ecce3"
      },
      "execution_count": null,
      "outputs": [
        {
          "output_type": "execute_result",
          "data": {
            "text/plain": [
              "                                             article  \\\n",
              "0  Ever noticed how plane seats appear to be gett...   \n",
              "1  A drunk teenage boy had to be rescued by secur...   \n",
              "2  Dougie Freedman is on the verge of agreeing a ...   \n",
              "3  Liverpool target Neto is also wanted by PSG an...   \n",
              "4  Bruce Jenner will break his silence in a two-h...   \n",
              "\n",
              "                                          highlights  \n",
              "0  Experts question if  packed out planes are put...  \n",
              "1  Drunk teenage boy climbed into lion enclosure ...  \n",
              "2  Nottingham Forest are close to extending Dougi...  \n",
              "3  Fiorentina goalkeeper Neto has been linked wit...  \n",
              "4  Tell-all interview with the reality TV star, 6...  "
            ],
            "text/html": [
              "\n",
              "  <div id=\"df-b5d3395f-4b6f-4d42-b4d9-1b6b10c12732\">\n",
              "    <div class=\"colab-df-container\">\n",
              "      <div>\n",
              "<style scoped>\n",
              "    .dataframe tbody tr th:only-of-type {\n",
              "        vertical-align: middle;\n",
              "    }\n",
              "\n",
              "    .dataframe tbody tr th {\n",
              "        vertical-align: top;\n",
              "    }\n",
              "\n",
              "    .dataframe thead th {\n",
              "        text-align: right;\n",
              "    }\n",
              "</style>\n",
              "<table border=\"1\" class=\"dataframe\">\n",
              "  <thead>\n",
              "    <tr style=\"text-align: right;\">\n",
              "      <th></th>\n",
              "      <th>article</th>\n",
              "      <th>highlights</th>\n",
              "    </tr>\n",
              "  </thead>\n",
              "  <tbody>\n",
              "    <tr>\n",
              "      <th>0</th>\n",
              "      <td>Ever noticed how plane seats appear to be gett...</td>\n",
              "      <td>Experts question if  packed out planes are put...</td>\n",
              "    </tr>\n",
              "    <tr>\n",
              "      <th>1</th>\n",
              "      <td>A drunk teenage boy had to be rescued by secur...</td>\n",
              "      <td>Drunk teenage boy climbed into lion enclosure ...</td>\n",
              "    </tr>\n",
              "    <tr>\n",
              "      <th>2</th>\n",
              "      <td>Dougie Freedman is on the verge of agreeing a ...</td>\n",
              "      <td>Nottingham Forest are close to extending Dougi...</td>\n",
              "    </tr>\n",
              "    <tr>\n",
              "      <th>3</th>\n",
              "      <td>Liverpool target Neto is also wanted by PSG an...</td>\n",
              "      <td>Fiorentina goalkeeper Neto has been linked wit...</td>\n",
              "    </tr>\n",
              "    <tr>\n",
              "      <th>4</th>\n",
              "      <td>Bruce Jenner will break his silence in a two-h...</td>\n",
              "      <td>Tell-all interview with the reality TV star, 6...</td>\n",
              "    </tr>\n",
              "  </tbody>\n",
              "</table>\n",
              "</div>\n",
              "      <button class=\"colab-df-convert\" onclick=\"convertToInteractive('df-b5d3395f-4b6f-4d42-b4d9-1b6b10c12732')\"\n",
              "              title=\"Convert this dataframe to an interactive table.\"\n",
              "              style=\"display:none;\">\n",
              "        \n",
              "  <svg xmlns=\"http://www.w3.org/2000/svg\" height=\"24px\"viewBox=\"0 0 24 24\"\n",
              "       width=\"24px\">\n",
              "    <path d=\"M0 0h24v24H0V0z\" fill=\"none\"/>\n",
              "    <path d=\"M18.56 5.44l.94 2.06.94-2.06 2.06-.94-2.06-.94-.94-2.06-.94 2.06-2.06.94zm-11 1L8.5 8.5l.94-2.06 2.06-.94-2.06-.94L8.5 2.5l-.94 2.06-2.06.94zm10 10l.94 2.06.94-2.06 2.06-.94-2.06-.94-.94-2.06-.94 2.06-2.06.94z\"/><path d=\"M17.41 7.96l-1.37-1.37c-.4-.4-.92-.59-1.43-.59-.52 0-1.04.2-1.43.59L10.3 9.45l-7.72 7.72c-.78.78-.78 2.05 0 2.83L4 21.41c.39.39.9.59 1.41.59.51 0 1.02-.2 1.41-.59l7.78-7.78 2.81-2.81c.8-.78.8-2.07 0-2.86zM5.41 20L4 18.59l7.72-7.72 1.47 1.35L5.41 20z\"/>\n",
              "  </svg>\n",
              "      </button>\n",
              "      \n",
              "  <style>\n",
              "    .colab-df-container {\n",
              "      display:flex;\n",
              "      flex-wrap:wrap;\n",
              "      gap: 12px;\n",
              "    }\n",
              "\n",
              "    .colab-df-convert {\n",
              "      background-color: #E8F0FE;\n",
              "      border: none;\n",
              "      border-radius: 50%;\n",
              "      cursor: pointer;\n",
              "      display: none;\n",
              "      fill: #1967D2;\n",
              "      height: 32px;\n",
              "      padding: 0 0 0 0;\n",
              "      width: 32px;\n",
              "    }\n",
              "\n",
              "    .colab-df-convert:hover {\n",
              "      background-color: #E2EBFA;\n",
              "      box-shadow: 0px 1px 2px rgba(60, 64, 67, 0.3), 0px 1px 3px 1px rgba(60, 64, 67, 0.15);\n",
              "      fill: #174EA6;\n",
              "    }\n",
              "\n",
              "    [theme=dark] .colab-df-convert {\n",
              "      background-color: #3B4455;\n",
              "      fill: #D2E3FC;\n",
              "    }\n",
              "\n",
              "    [theme=dark] .colab-df-convert:hover {\n",
              "      background-color: #434B5C;\n",
              "      box-shadow: 0px 1px 3px 1px rgba(0, 0, 0, 0.15);\n",
              "      filter: drop-shadow(0px 1px 2px rgba(0, 0, 0, 0.3));\n",
              "      fill: #FFFFFF;\n",
              "    }\n",
              "  </style>\n",
              "\n",
              "      <script>\n",
              "        const buttonEl =\n",
              "          document.querySelector('#df-b5d3395f-4b6f-4d42-b4d9-1b6b10c12732 button.colab-df-convert');\n",
              "        buttonEl.style.display =\n",
              "          google.colab.kernel.accessAllowed ? 'block' : 'none';\n",
              "\n",
              "        async function convertToInteractive(key) {\n",
              "          const element = document.querySelector('#df-b5d3395f-4b6f-4d42-b4d9-1b6b10c12732');\n",
              "          const dataTable =\n",
              "            await google.colab.kernel.invokeFunction('convertToInteractive',\n",
              "                                                     [key], {});\n",
              "          if (!dataTable) return;\n",
              "\n",
              "          const docLinkHtml = 'Like what you see? Visit the ' +\n",
              "            '<a target=\"_blank\" href=https://colab.research.google.com/notebooks/data_table.ipynb>data table notebook</a>'\n",
              "            + ' to learn more about interactive tables.';\n",
              "          element.innerHTML = '';\n",
              "          dataTable['output_type'] = 'display_data';\n",
              "          await google.colab.output.renderOutput(dataTable, element);\n",
              "          const docLink = document.createElement('div');\n",
              "          docLink.innerHTML = docLinkHtml;\n",
              "          element.appendChild(docLink);\n",
              "        }\n",
              "      </script>\n",
              "    </div>\n",
              "  </div>\n",
              "  "
            ]
          },
          "metadata": {},
          "execution_count": 11
        }
      ]
    },
    {
      "cell_type": "code",
      "source": [
        "metric = load_metric(\"rouge\")"
      ],
      "metadata": {
        "colab": {
          "base_uri": "https://localhost:8080/",
          "height": 66,
          "referenced_widgets": [
            "eb2ce63d287a4080b1e58d51b8c57f5d",
            "86811703d7244e14aeb226f4fb20dd94",
            "d21534b216ec40cf82fc96d46a3e097f",
            "968a19f776d94c3e9440289211c360ce",
            "5c57b0c2895b466abb7be5417317d14e",
            "a58c8b4cbac5412eb2f98238e0722a56",
            "ce19d4a508de4e26a70737a1e95410c1",
            "f3b2e34b7b384de287b8b148694b1686"
          ]
        },
        "id": "liVGMD_tVcRG",
        "outputId": "d71811a8-c7d8-45d6-cad9-7b1a77260127"
      },
      "execution_count": null,
      "outputs": [
        {
          "output_type": "display_data",
          "data": {
            "text/plain": [
              "HBox(children=(FloatProgress(value=0.0, description='Downloading', max=2170.0, style=ProgressStyle(description…"
            ],
            "application/vnd.jupyter.widget-view+json": {
              "version_major": 2,
              "version_minor": 0,
              "model_id": "eb2ce63d287a4080b1e58d51b8c57f5d"
            }
          },
          "metadata": {}
        },
        {
          "output_type": "stream",
          "name": "stdout",
          "text": [
            "\n"
          ]
        }
      ]
    },
    {
      "cell_type": "code",
      "source": [
        "def calc_rouge_scores(candidates, references):\n",
        "    result = metric.compute(predictions=candidates, references=references, use_stemmer=True)\n",
        "    result = {key: round(value.mid.fmeasure * 100, 1) for key, value in result.items()}\n",
        "    return result"
      ],
      "metadata": {
        "id": "HIuNm7qqVebF"
      },
      "execution_count": null,
      "outputs": []
    },
    {
      "cell_type": "code",
      "source": [
        "ref_summaries = list(df_test['highlights'])"
      ],
      "metadata": {
        "id": "5ViPSzAeVnIL"
      },
      "execution_count": null,
      "outputs": []
    },
    {
      "cell_type": "code",
      "source": [
        "for i in range (3):\n",
        "    candidate_summaries = list(df_test['article'].apply(lambda x: ' '.join(re.split(r'(?<=[.:;])\\s', x)[:i+1])))\n",
        "    print(f\"First {i+1} senctences: Scores {calc_rouge_scores(candidate_summaries, ref_summaries)}\")"
      ],
      "metadata": {
        "colab": {
          "base_uri": "https://localhost:8080/"
        },
        "id": "9guaCf6TVyAe",
        "outputId": "b52dfaf4-cb38-4d65-f024-2b4d84ed7909"
      },
      "execution_count": null,
      "outputs": [
        {
          "output_type": "stream",
          "name": "stdout",
          "text": [
            "First 1 senctences: Scores {'rouge1': 26.9, 'rouge2': 9.4, 'rougeL': 18.4, 'rougeLsum': 23.2}\n",
            "First 2 senctences: Scores {'rouge1': 37.6, 'rouge2': 15.4, 'rougeL': 23.4, 'rougeLsum': 31.1}\n",
            "First 3 senctences: Scores {'rouge1': 39.9, 'rouge2': 17.3, 'rougeL': 24.9, 'rougeLsum': 32.8}\n"
          ]
        }
      ]
    },
    {
      "cell_type": "markdown",
      "source": [
        "# **ZERO SHOT MODEL**"
      ],
      "metadata": {
        "id": "tA56_T39Ywi-"
      }
    },
    {
      "cell_type": "code",
      "source": [
        "! pip install transformers"
      ],
      "metadata": {
        "id": "e4Qx4aPMh7Ev"
      },
      "execution_count": null,
      "outputs": []
    },
    {
      "cell_type": "code",
      "source": [
        "from transformers import pipeline\n",
        "from google.colab import files"
      ],
      "metadata": {
        "id": "FNoKE-Knh-gx"
      },
      "execution_count": null,
      "outputs": []
    },
    {
      "cell_type": "code",
      "source": [
        "summarizer = pipeline(\"summarization\", model=\"t5-base\", tokenizer=\"t5-base\", framework=\"tf\")"
      ],
      "metadata": {
        "colab": {
          "base_uri": "https://localhost:8080/",
          "height": 284,
          "referenced_widgets": [
            "1680bb467f2b41c4bf6df99532a7d744",
            "de17807cca724fd580b34ea5306fca6f",
            "503e238f5a604bfeb2756cec6b012f79",
            "3b832d3bb3bf4432a6e5625e0490d2c7",
            "70e56e1a9a4e40d08d5d8705b02db5d8",
            "44d7011110934ab386698f6b3601fad4",
            "bd403bbb1c34468a83dd1d9a366e1ed2",
            "15b89ad212d949d88710cf9720774c6a",
            "60e27508b1f74169bcb46239112a43b1",
            "a342e037a77543d88d12f0a849be715e",
            "08834fe05e3847c8b51913357a21f6d4",
            "8930fb2f2ba946dc82c36e76abafb991",
            "44bd0a507da3410ab357b21276cc07c6",
            "64f3bbe17c344a579cc3411efc94fa30",
            "d4cd4093a6364493b0a293c330559122",
            "46c06741e97e4132917a44b2cfae0100",
            "60caed451241431cacd2daf0c0ae5484",
            "0b5374cfbda34a3683fbb6cad63d2a37",
            "9df4fa4af78447f7ae243628a378f552",
            "6dea5b7e413b4a8d95b6c23ad3c952e6",
            "d04cefbb7e2d4cb1b8dfc5ae777e795b",
            "3da207a0711b4f27a953542e5b82051f",
            "8e460b33c02a48fd8947696b68dbaeb6",
            "3c143c72c74f4a55b595ce2bfc8dba16",
            "61296e3cad864bb9bcca43dfcab53d47",
            "9b2405f9bcca40dab339ba3fc5601e10",
            "5f64c9fdbcf746b5b1d4d11eded0432c",
            "cf5b6ba3d59c4455811ab26463bb347c",
            "d11495f9d3c14bb5a59df7eed62951ca",
            "1f3e0d6eac764c9387818217f6ec2094",
            "c2ff350348014c4bab81c9a05e7a043f",
            "8c7679b46846416cb3ae787e06dcbf03"
          ]
        },
        "id": "w0vV6Lx2Yzsi",
        "outputId": "5cb6abb8-e1aa-4f7b-b40e-fbb3a3b69e04"
      },
      "execution_count": null,
      "outputs": [
        {
          "output_type": "display_data",
          "data": {
            "text/plain": [
              "HBox(children=(FloatProgress(value=0.0, description='Downloading', max=1199.0, style=ProgressStyle(description…"
            ],
            "application/vnd.jupyter.widget-view+json": {
              "version_major": 2,
              "version_minor": 0,
              "model_id": "1680bb467f2b41c4bf6df99532a7d744"
            }
          },
          "metadata": {}
        },
        {
          "output_type": "stream",
          "name": "stdout",
          "text": [
            "\n"
          ]
        },
        {
          "output_type": "display_data",
          "data": {
            "text/plain": [
              "HBox(children=(FloatProgress(value=0.0, description='Downloading', max=892146080.0, style=ProgressStyle(descri…"
            ],
            "application/vnd.jupyter.widget-view+json": {
              "version_major": 2,
              "version_minor": 0,
              "model_id": "60e27508b1f74169bcb46239112a43b1"
            }
          },
          "metadata": {}
        },
        {
          "output_type": "stream",
          "name": "stdout",
          "text": [
            "\n"
          ]
        },
        {
          "output_type": "stream",
          "name": "stderr",
          "text": [
            "All model checkpoint layers were used when initializing TFT5ForConditionalGeneration.\n",
            "\n",
            "All the layers of TFT5ForConditionalGeneration were initialized from the model checkpoint at t5-base.\n",
            "If your task is similar to the task the model of the checkpoint was trained on, you can already use TFT5ForConditionalGeneration for predictions without further training.\n"
          ]
        },
        {
          "output_type": "display_data",
          "data": {
            "text/plain": [
              "HBox(children=(FloatProgress(value=0.0, description='Downloading', max=791656.0, style=ProgressStyle(descripti…"
            ],
            "application/vnd.jupyter.widget-view+json": {
              "version_major": 2,
              "version_minor": 0,
              "model_id": "60caed451241431cacd2daf0c0ae5484"
            }
          },
          "metadata": {}
        },
        {
          "output_type": "stream",
          "name": "stdout",
          "text": [
            "\n"
          ]
        },
        {
          "output_type": "display_data",
          "data": {
            "text/plain": [
              "HBox(children=(FloatProgress(value=0.0, description='Downloading', max=1389353.0, style=ProgressStyle(descript…"
            ],
            "application/vnd.jupyter.widget-view+json": {
              "version_major": 2,
              "version_minor": 0,
              "model_id": "61296e3cad864bb9bcca43dfcab53d47"
            }
          },
          "metadata": {}
        },
        {
          "output_type": "stream",
          "name": "stdout",
          "text": [
            "\n"
          ]
        }
      ]
    },
    {
      "cell_type": "code",
      "source": [
        "cutoff_summary = 5\n",
        "cutoff_text = 256\n",
        "df_test= df_test[(df_test['highlights'].apply(lambda x: len(x.split()) >= cutoff_summary)) & (df_test['article'].apply(lambda x: len(x.split()) <= cutoff_text))]"
      ],
      "metadata": {
        "id": "VDNsSz-7jXvC"
      },
      "execution_count": null,
      "outputs": []
    },
    {
      "cell_type": "code",
      "source": [
        "ref_summaries = list(df_test['highlights'])\n",
        "len(ref_summaries)"
      ],
      "metadata": {
        "id": "IwxCA9-Hm-nw"
      },
      "execution_count": null,
      "outputs": []
    },
    {
      "cell_type": "code",
      "source": [
        "# import pandas as pd\n",
        "# df_test = pd.read_csv('data/test.csv')\n",
        "# ref_summaries = list(df_test['summary'])\n",
        "texts = list(df_test['article'])\n"
      ],
      "metadata": {
        "id": "Mm5mvaoaaRFT"
      },
      "execution_count": null,
      "outputs": []
    },
    {
      "cell_type": "code",
      "source": [
        "texts[5]"
      ],
      "metadata": {
        "colab": {
          "base_uri": "https://localhost:8080/",
          "height": 122
        },
        "id": "XemNbr23apGb",
        "outputId": "a2924d29-51a6-4361-99c3-15092b2ed385"
      },
      "execution_count": null,
      "outputs": [
        {
          "output_type": "execute_result",
          "data": {
            "text/plain": [
              "\"Three police officers have been sent forward for trial after being accused of stealing bundles of notes worth £30,000 from the home of a suspected criminal. Detective Sergeant Stephen Phillips, 46, and police constables Christopher Evans, 37, and Michael Stokes, 34 are all facing charges of 'theft by a serving police officer'. Cardiff Crown Court heard that the three officers from South Wales Police were all arrested as a result of an investigation being carried out by the force's professional standards department. Philips, of Winch Wen, Swansea, Evans of Llangennech, Carmarthenshire and Stokes from Glynneath were released on bail following today's hearing to return to Cardiff Crown Court to stand trial on June 15. Cardiff Crown Court heard that Stephen Phillips, left, Christopher Evans, centre, and Michael Stokes, right, are all accused of taking bundles of cash worth £30,000 from the home of a suspected criminal . Sorry we are not currently accepting comments on this article.\""
            ],
            "application/vnd.google.colaboratory.intrinsic+json": {
              "type": "string"
            }
          },
          "metadata": {},
          "execution_count": 19
        }
      ]
    },
    {
      "cell_type": "code",
      "source": [
        "summarizer(texts[5], max_length=40)"
      ],
      "metadata": {
        "colab": {
          "base_uri": "https://localhost:8080/"
        },
        "id": "SwtbXJE_avY1",
        "outputId": "48c953c1-b0ab-4e2a-f72b-e6acfb6ccc41"
      },
      "execution_count": null,
      "outputs": [
        {
          "output_type": "execute_result",
          "data": {
            "text/plain": [
              "[{'summary_text': \"detective sgt Stephen Phillips, 46, and police constables Christopher Evans, 37, and Michael Stokes, 34 are all facing charges of 'theft by a\"}]"
            ]
          },
          "metadata": {},
          "execution_count": 20
        }
      ]
    },
    {
      "cell_type": "code",
      "source": [
        "candidate_summaries = []\n",
        "\n",
        "for text in texts:\n",
        "  print(type(text))\n",
        "  candidate = summarizer(text, min_length=5, max_length=40)\n",
        "  candidate_summaries.append(candidate[0]['summary_text'])"
      ],
      "metadata": {
        "colab": {
          "base_uri": "https://localhost:8080/",
          "height": 1000
        },
        "id": "8ChORyPWboGQ",
        "outputId": "d94e7fc3-cec3-46c8-fe8e-1670f39e3107"
      },
      "execution_count": null,
      "outputs": [
        {
          "output_type": "stream",
          "name": "stdout",
          "text": [
            "<class 'str'>\n",
            "<class 'str'>\n",
            "<class 'str'>\n",
            "<class 'str'>\n",
            "<class 'str'>\n",
            "<class 'str'>\n",
            "<class 'str'>\n",
            "<class 'str'>\n",
            "<class 'str'>\n",
            "<class 'str'>\n",
            "<class 'str'>\n",
            "<class 'str'>\n",
            "<class 'str'>\n",
            "<class 'str'>\n",
            "<class 'str'>\n",
            "<class 'str'>\n",
            "<class 'str'>\n",
            "<class 'str'>\n",
            "<class 'str'>\n",
            "<class 'str'>\n",
            "<class 'str'>\n",
            "<class 'str'>\n",
            "<class 'str'>\n",
            "<class 'str'>\n",
            "<class 'str'>\n",
            "<class 'str'>\n",
            "<class 'str'>\n",
            "<class 'str'>\n",
            "<class 'str'>\n",
            "<class 'str'>\n",
            "<class 'str'>\n",
            "<class 'str'>\n",
            "<class 'str'>\n",
            "<class 'str'>\n",
            "<class 'str'>\n",
            "<class 'str'>\n",
            "<class 'str'>\n",
            "<class 'str'>\n",
            "<class 'str'>\n",
            "<class 'str'>\n",
            "<class 'str'>\n",
            "<class 'str'>\n",
            "<class 'str'>\n",
            "<class 'str'>\n",
            "<class 'str'>\n",
            "<class 'str'>\n",
            "<class 'str'>\n",
            "<class 'str'>\n",
            "<class 'str'>\n",
            "<class 'str'>\n",
            "<class 'str'>\n",
            "<class 'str'>\n",
            "<class 'str'>\n",
            "<class 'str'>\n",
            "<class 'str'>\n",
            "<class 'str'>\n",
            "<class 'str'>\n",
            "<class 'str'>\n",
            "<class 'str'>\n",
            "<class 'str'>\n",
            "<class 'str'>\n",
            "<class 'str'>\n",
            "<class 'str'>\n",
            "<class 'str'>\n",
            "<class 'str'>\n",
            "<class 'str'>\n",
            "<class 'str'>\n",
            "<class 'str'>\n",
            "<class 'str'>\n",
            "<class 'str'>\n",
            "<class 'str'>\n",
            "<class 'str'>\n",
            "<class 'str'>\n",
            "<class 'str'>\n",
            "<class 'str'>\n",
            "<class 'str'>\n",
            "<class 'str'>\n",
            "<class 'str'>\n",
            "<class 'str'>\n",
            "<class 'str'>\n",
            "<class 'str'>\n",
            "<class 'str'>\n",
            "<class 'str'>\n",
            "<class 'str'>\n",
            "<class 'str'>\n",
            "<class 'str'>\n",
            "<class 'str'>\n",
            "<class 'str'>\n",
            "<class 'str'>\n",
            "<class 'str'>\n",
            "<class 'str'>\n",
            "<class 'str'>\n",
            "<class 'str'>\n",
            "<class 'str'>\n",
            "<class 'str'>\n",
            "<class 'str'>\n",
            "<class 'str'>\n",
            "<class 'str'>\n",
            "<class 'str'>\n",
            "<class 'str'>\n",
            "<class 'str'>\n",
            "<class 'str'>\n",
            "<class 'str'>\n",
            "<class 'str'>\n",
            "<class 'str'>\n",
            "<class 'str'>\n",
            "<class 'str'>\n",
            "<class 'str'>\n",
            "<class 'str'>\n",
            "<class 'str'>\n",
            "<class 'str'>\n",
            "<class 'str'>\n",
            "<class 'str'>\n",
            "<class 'str'>\n",
            "<class 'str'>\n",
            "<class 'str'>\n",
            "<class 'str'>\n",
            "<class 'str'>\n",
            "<class 'str'>\n",
            "<class 'str'>\n",
            "<class 'str'>\n",
            "<class 'str'>\n",
            "<class 'str'>\n",
            "<class 'str'>\n",
            "<class 'str'>\n",
            "<class 'str'>\n",
            "<class 'str'>\n",
            "<class 'str'>\n",
            "<class 'str'>\n",
            "<class 'str'>\n",
            "<class 'str'>\n",
            "<class 'str'>\n",
            "<class 'str'>\n",
            "<class 'str'>\n",
            "<class 'str'>\n",
            "<class 'str'>\n",
            "<class 'str'>\n",
            "<class 'str'>\n",
            "<class 'str'>\n",
            "<class 'str'>\n",
            "<class 'str'>\n",
            "<class 'str'>\n",
            "<class 'str'>\n",
            "<class 'str'>\n",
            "<class 'str'>\n",
            "<class 'str'>\n",
            "<class 'str'>\n",
            "<class 'str'>\n",
            "<class 'str'>\n",
            "<class 'str'>\n",
            "<class 'str'>\n",
            "<class 'str'>\n",
            "<class 'str'>\n",
            "<class 'str'>\n",
            "<class 'str'>\n",
            "<class 'str'>\n",
            "<class 'str'>\n",
            "<class 'str'>\n",
            "<class 'str'>\n",
            "<class 'str'>\n",
            "<class 'str'>\n",
            "<class 'str'>\n",
            "<class 'str'>\n",
            "<class 'str'>\n",
            "<class 'str'>\n",
            "<class 'str'>\n",
            "<class 'str'>\n",
            "<class 'str'>\n",
            "<class 'str'>\n",
            "<class 'str'>\n",
            "<class 'str'>\n",
            "<class 'str'>\n",
            "<class 'str'>\n",
            "<class 'str'>\n",
            "<class 'str'>\n",
            "<class 'str'>\n",
            "<class 'str'>\n",
            "<class 'str'>\n",
            "<class 'str'>\n",
            "<class 'str'>\n",
            "<class 'str'>\n",
            "<class 'str'>\n",
            "<class 'str'>\n",
            "<class 'str'>\n",
            "<class 'str'>\n",
            "<class 'str'>\n",
            "<class 'str'>\n",
            "<class 'str'>\n"
          ]
        }
      ]
    },
    {
      "cell_type": "code",
      "source": [
        "file = open(\"zero-shot-summaries.txt\", \"w\")\n",
        "for s in candidate_summaries:\n",
        "    file.write(s + \"\\n\")\n",
        "file.close()"
      ],
      "metadata": {
        "id": "u1mjeFSigeuW"
      },
      "execution_count": null,
      "outputs": []
    },
    {
      "cell_type": "code",
      "source": [
        "candidate_summaries[:5]"
      ],
      "metadata": {
        "colab": {
          "base_uri": "https://localhost:8080/"
        },
        "id": "cxtM1CUbgf9P",
        "outputId": "d78387ab-5bb0-4414-b4b8-a1df72259a09"
      },
      "execution_count": null,
      "outputs": [
        {
          "output_type": "execute_result",
          "data": {
            "text/plain": [
              "['Dougie Freedman is on the verge of agreeing a new two-year deal . he replaced cult hero Stuart Pearce at the city ground',\n",
              " \"alastair cook completed a much-needed century on the second morning of England's opening tour match in the west indies . cook resumed on 95 and reached three figures with\",\n",
              " 'deShane Beckford has impressed on trial with westham . the 17-year-old has also been linked with a host of european clubs . west ham have revealed',\n",
              " 'Tim Swiel will return to Harlequins on a full-time contract . the 21-year-old spent four months on loan with the sharks earlier this season',\n",
              " '\"Avengers\" character is a master with the bow and arrow . \"Listen I\\'ve got powers too, and they\\'re pretty sweet,\" he ']"
            ]
          },
          "metadata": {},
          "execution_count": 23
        }
      ]
    },
    {
      "cell_type": "code",
      "source": [
        "len(candidate_summaries)"
      ],
      "metadata": {
        "id": "IK7upJkFmxzc"
      },
      "execution_count": null,
      "outputs": []
    },
    {
      "cell_type": "code",
      "source": [
        "# from datasets import load_metric\n",
        "metric = load_metric(\"rouge\")"
      ],
      "metadata": {
        "id": "Blol3LRxhDt5"
      },
      "execution_count": null,
      "outputs": []
    },
    {
      "cell_type": "code",
      "source": [
        "files.download(\"zero-shot-summaries.txt\")"
      ],
      "metadata": {
        "colab": {
          "base_uri": "https://localhost:8080/",
          "height": 17
        },
        "id": "Wp7xMP4SmiDd",
        "outputId": "7b7ac157-d5d5-4c4f-885f-7523a55767ff"
      },
      "execution_count": null,
      "outputs": [
        {
          "output_type": "display_data",
          "data": {
            "text/plain": [
              "<IPython.core.display.Javascript object>"
            ],
            "application/javascript": [
              "\n",
              "    async function download(id, filename, size) {\n",
              "      if (!google.colab.kernel.accessAllowed) {\n",
              "        return;\n",
              "      }\n",
              "      const div = document.createElement('div');\n",
              "      const label = document.createElement('label');\n",
              "      label.textContent = `Downloading \"${filename}\": `;\n",
              "      div.appendChild(label);\n",
              "      const progress = document.createElement('progress');\n",
              "      progress.max = size;\n",
              "      div.appendChild(progress);\n",
              "      document.body.appendChild(div);\n",
              "\n",
              "      const buffers = [];\n",
              "      let downloaded = 0;\n",
              "\n",
              "      const channel = await google.colab.kernel.comms.open(id);\n",
              "      // Send a message to notify the kernel that we're ready.\n",
              "      channel.send({})\n",
              "\n",
              "      for await (const message of channel.messages) {\n",
              "        // Send a message to notify the kernel that we're ready.\n",
              "        channel.send({})\n",
              "        if (message.buffers) {\n",
              "          for (const buffer of message.buffers) {\n",
              "            buffers.push(buffer);\n",
              "            downloaded += buffer.byteLength;\n",
              "            progress.value = downloaded;\n",
              "          }\n",
              "        }\n",
              "      }\n",
              "      const blob = new Blob(buffers, {type: 'application/binary'});\n",
              "      const a = document.createElement('a');\n",
              "      a.href = window.URL.createObjectURL(blob);\n",
              "      a.download = filename;\n",
              "      div.appendChild(a);\n",
              "      a.click();\n",
              "      div.remove();\n",
              "    }\n",
              "  "
            ]
          },
          "metadata": {}
        },
        {
          "output_type": "display_data",
          "data": {
            "text/plain": [
              "<IPython.core.display.Javascript object>"
            ],
            "application/javascript": [
              "download(\"download_25b31b06-736e-42d6-9bdc-8b110d42223f\", \"zero-shot-summaries.txt\", 27352)"
            ]
          },
          "metadata": {}
        }
      ]
    },
    {
      "cell_type": "code",
      "source": [
        "calc_rouge_scores(candidate_summaries, ref_summaries)"
      ],
      "metadata": {
        "colab": {
          "base_uri": "https://localhost:8080/"
        },
        "id": "tW9TLDv9heD8",
        "outputId": "feff70e9-c1cb-46ce-fc20-508a558e509c"
      },
      "execution_count": null,
      "outputs": [
        {
          "output_type": "execute_result",
          "data": {
            "text/plain": [
              "{'rouge1': 39.7, 'rouge2': 20.7, 'rougeL': 30.2, 'rougeLsum': 34.9}"
            ]
          },
          "metadata": {},
          "execution_count": 31
        }
      ]
    },
    {
      "cell_type": "markdown",
      "source": [
        "# **HYPER-TUNING A SUMMARISATION MODEL**"
      ],
      "metadata": {
        "id": "CrSFr9ykN48T"
      }
    },
    {
      "cell_type": "code",
      "source": [
        "! pip install simplet5 -q"
      ],
      "metadata": {
        "id": "CjPoPy_DrY3s"
      },
      "execution_count": null,
      "outputs": []
    },
    {
      "cell_type": "code",
      "source": [
        "import numpy as np\n",
        "import pandas as pd\n",
        "from sklearn.model_selection import train_test_split\n",
        "import random\n",
        "import torch\n",
        "import re\n",
        "import os\n",
        "import string\n",
        "import pandas as pd\n",
        "from simplet5 import SimpleT5\n",
        "from google.colab import files\n",
        "from datasets import load_metric"
      ],
      "metadata": {
        "id": "dch6695VVoEX"
      },
      "execution_count": null,
      "outputs": []
    },
    {
      "cell_type": "code",
      "source": [
        "class Settings:\n",
        "\n",
        "    MODEL_TYPE = \"t5\"\n",
        "    MODEL_NAME = \"t5-base\"\n",
        "\n",
        "    DEVICE = torch.device(\"cuda\" if torch.cuda.is_available() else \"cpu\")\n",
        "\n",
        "    TRAIN_DATA = \"/content/drive/My Drive/DL 2/train.csv\"\n",
        "    Columns = ['highlights', 'article']\n",
        "\n",
        "    USE_GPU = None\n",
        "    if str(DEVICE) == \"cuda\":\n",
        "        USE_GPU=True\n",
        "    else:\n",
        "        USE_GPU = False\n",
        "\n",
        "    EPOCHS = 10  # can be increased to 30\n",
        "\n",
        "    encoding = 'latin-1'\n",
        "    columns_dict = {\"highlights\": \"target_text\", \"article\": \"source_text\"}\n",
        "    df_column_list = ['source_text', 'target_text']\n",
        "    SUMMARIZE_KEY = \"summarize: \"\n",
        "    SOURCE_TEXT_KEY = 'source_text'\n",
        "    TEST_SIZE = 0.2\n",
        "    BATCH_SIZE = 8       #check at 32 also\n",
        "    source_max_token_len = 256\n",
        "    target_max_token_len = 50\n",
        "    train_df_len = 5000\n",
        "    test_df_len = 100"
      ],
      "metadata": {
        "id": "asb-9B0slLzc"
      },
      "execution_count": null,
      "outputs": []
    },
    {
      "cell_type": "code",
      "source": [
        "class Preprocess:\n",
        "    def __init__(self):\n",
        "        self.settings = Settings\n",
        "\n",
        "    def clean_text(self, text):\n",
        "        text = text.lower()\n",
        "        text = re.sub('\\[.*?\\]', '', text)\n",
        "        text = re.sub('https?://\\S+|www\\.\\S+', '', text)\n",
        "        text = re.sub('<.*?>+', '', text)\n",
        "        text = re.sub('[%s]' % re.escape(string.punctuation), '', text)\n",
        "        text = re.sub('\\n', '', text)\n",
        "        text = re.sub('\\w*\\d\\w*', '', text)\n",
        "        return text\n",
        "\n",
        "    def preprocess_data(self, data_path):\n",
        "        df = pd.read_csv(data_path, encoding=self.settings.encoding, usecols=self.settings.Columns)\n",
        "        # simpleT5 expects dataframe to have 2 columns: \"source_text\" and \"target_text\"\n",
        "        df = df.rename(columns=self.settings.columns_dict)\n",
        "        df = df[self.settings.df_column_list]\n",
        "        # T5 model expects a task related prefix: since it is a summarization task, we will add a prefix \"summarize: \"\n",
        "        df[self.settings.SOURCE_TEXT_KEY] = self.settings.SUMMARIZE_KEY + df[self.settings.SOURCE_TEXT_KEY]\n",
        "\n",
        "        return df"
      ],
      "metadata": {
        "id": "6LgW_AzXsA8q"
      },
      "execution_count": null,
      "outputs": []
    },
    {
      "cell_type": "code",
      "source": [
        "class T5Model:\n",
        "    def __init__(self, model_type, model_name):\n",
        "        self.model = SimpleT5()\n",
        "        self.model.from_pretrained(model_type=model_type,\n",
        "                                   model_name=model_name)\n",
        "\n",
        "    def load_model(self, model_type, model_path, use_gpu: bool):\n",
        "        try:\n",
        "            self.model.load_model(\n",
        "                model_type=model_type,\n",
        "                model_dir=model_path,\n",
        "                use_gpu=use_gpu\n",
        "            )\n",
        "\n",
        "        except BaseException as ex:\n",
        "            print(\"error occurred while loading model \", str(ex))\n",
        "            "
      ],
      "metadata": {
        "id": "KDXmY9_zsGCl"
      },
      "execution_count": null,
      "outputs": []
    },
    {
      "cell_type": "code",
      "source": [
        "class Train:\n",
        "    def __init__(self):\n",
        "        # initialize required class\n",
        "        self.settings = Settings\n",
        "        self.preprocess = Preprocess()\n",
        "\n",
        "        # initialize required variables\n",
        "        self.t5_model = None\n",
        "\n",
        "    def __initialize(self):\n",
        "        try:\n",
        "            self.t5_model = T5Model(model_name=self.settings.MODEL_NAME,\n",
        "                                    model_type=self.settings.MODEL_TYPE)\n",
        "\n",
        "        except BaseException as ex:\n",
        "            print(\"error occurred while loading model \", str(ex))\n",
        "\n",
        "    def set_seed(self, seed_value = 42):\n",
        "        random.seed(seed_value) # can change seed value\n",
        "        np.random.seed(seed_value)\n",
        "        torch.manual_seed(seed_value)\n",
        "        torch.cuda.manual_seed_all(seed_value)\n",
        "    \n",
        "    def train(self, df):\n",
        "        try:\n",
        "            train_df, test_df = train_test_split(df, test_size=self.settings.TEST_SIZE)\n",
        "\n",
        "            self.t5_model.model.train(train_df=train_df[:self.settings.train_df_len],\n",
        "                                      eval_df=test_df[:self.settings.test_df_len],\n",
        "                                      source_max_token_len=self.settings.source_max_token_len,\n",
        "                                      target_max_token_len=self.settings.target_max_token_len,\n",
        "                                      batch_size=self.settings.BATCH_SIZE, max_epochs=self.settings.EPOCHS,\n",
        "                                      use_gpu=self.settings.USE_GPU)\n",
        "        except BaseException as ex:\n",
        "          print(\"error occurred while loading model \", str(ex))\n",
        "\n",
        "    def run(self):\n",
        "        try:\n",
        "            print(\"Loading and Preparing the Dataset-----!! \")\n",
        "            df = self.preprocess.preprocess_data(self.settings.TRAIN_DATA)\n",
        "            print(df.head())\n",
        "            print(\"Dataset Successfully Loaded and Prepared-----!! \")\n",
        "            print(\"Loading and Initializing the T5 Model -----!! \")\n",
        "            self.__initialize()\n",
        "            print(\"Model Successfully Loaded and Initialized-----!! \")\n",
        "            print(\"------------------Starting Training-----------!!\")\n",
        "            self.set_seed()\n",
        "            self.train(df)\n",
        "            print(\"Training complete-----!!!\")\n",
        "\n",
        "        except BaseException as ex:\n",
        "            print(\"Following Exception Occurred---!! \", str(ex))"
      ],
      "metadata": {
        "id": "9jp5tE5ysJLn"
      },
      "execution_count": null,
      "outputs": []
    },
    {
      "cell_type": "code",
      "source": [
        "t= Train()\n",
        "t.run()"
      ],
      "metadata": {
        "colab": {
          "base_uri": "https://localhost:8080/",
          "height": 961,
          "referenced_widgets": [
            "b271627515614df7af2dfc36b347a699",
            "34a5ea0166694056927122a90a37518b",
            "aff592c12cf14fca9542e751670459db",
            "06aa051f738241578a0b5fa17914e633",
            "2f49f7129378433ba8e70ace055205fc",
            "83b7e7f464c6483280de3854eef2b6b7",
            "02c95303108343699fa3f5a462302858",
            "152e0af639e6480490b9890b9cbd1c10",
            "468e554a82a644c0b592c8fa1e5b08a5",
            "a2aa9f62cc3647078f8f7e5b52e8d064",
            "90bab54ca0534874abae9f80346cfedb",
            "07c8a5c7b57246dd88f896a86f57faee",
            "f095473784a3477796b6f6d37dc32b8f",
            "932876d19a4c4cf689f1c9adb1f95e47",
            "30bb33f0ee5e4cd287953366db665286",
            "6a6ca66b0753495ebea6a77984183dcf",
            "5e2646215c3647c8ad947e1a34b9db7a",
            "0d4ca7afecf045acbd1ae9be45040933",
            "ac0ba29ef35846d9a2681c06d37f03d0",
            "fc017f722b544ceb8bb35afada1b46f2",
            "70dbb3ab6a5a431e9f63455952eec009",
            "887692f6832d43aaa61ca95df66bd305",
            "457b289ac9404d7086d755314d41e0fb",
            "2ee27e99283d4e49a74ede42d42f0ef1",
            "48a66b93da21413d807aa5a39c0b8843",
            "adb549a393f247e1984c926dc879b857",
            "fec236072dab4b79b082ff8e25378dd4",
            "c54dcfe7948b4abeb54244c494c7d709",
            "252456c6d59144f09fb59188dff96ed3",
            "ceaaf69a388c45efb6a960c401be16d2",
            "ad2a005ce7724fbc8515a9b8075aa681",
            "758f408795ea4b68b845e70e12c3c646",
            "e21161814efb452598da54cec5ca2e93",
            "5c4408d2306f44f4a3ba0b57fc3e1311",
            "2607a7b3eea8489fb0e631383cb9c22c",
            "cc7d84dd7c4647749745fad0b3e852e4",
            "5952015b7e9047cbabad7c0001a77805",
            "5f960d5bc3d94e83aac19618362977bc",
            "f61d3e165be24d24b9a54f1753678620",
            "225078892f2d44128469af2130507b96",
            "829559b8feda4b2ab59ea440440ef16f",
            "a8a3d7bb114d4f599b473ad1e568ae1d",
            "37db0243e87548a0aa409ef0b787ec8e",
            "c6b6ea15a6794d78a06db079906851c5",
            "4d8e73da1a224a88b753df7fa4074f4e",
            "f1a8e5fa83c44fa4bc830c57d6774a21",
            "c0bea2c50d5246268c644dae31bcdeda",
            "31229a8133704cafb9e59e3a7af554b6",
            "cbf242f8c3bf4980ad05104b50389613",
            "6ecdb43d5f1e4cb68412ee73c31f53e3",
            "6356bdb9d93246b08bd4d4cd67d26ce7",
            "daf62ac0523847129c8a2c227128e8d9",
            "6b7697f1769e4bf5bd285c574b22b9ef",
            "e64e2c217bb54520bc6566fcca0f73bd",
            "c754bcd600bc4981acd6c68dffbb17ee",
            "645e49e46d31456cb1a0c25a480b6ce4",
            "49f54e56a6f74fb58c6c8831c91a61ca",
            "84d8facdf0af4d2cbb2352a34647c041",
            "a97968c4e2ad40a1a111c9ec6ae0cb9c",
            "0f20be2a49444e6f9d728c01d01f2698",
            "8d727c1878e14ab5893ac0553f04f324",
            "d9277a0ea0fc47de966081356c7704c6",
            "47a4c162351b4a5a82e0c3431810f93b",
            "5e96bbb2ced84d23a4615077a12130ac",
            "e83daec6d0c14e82af32a421a7c1731b",
            "9f2bc474540d46a298c1adfcb4f4d712",
            "5352ebb214974cbca72564c2dfc7ffad",
            "d8c952b83e7549b7ae531f69f52be199",
            "0c550bc09dbb4d15a45c1f9025d3b378",
            "44d11d3b48e14f969bfefec6d761c2ef",
            "1d8b3d2c6a4e4d8aa9ce5f4feda96ab9",
            "1d8b1ce9e8f54cb49b271f8c14a4f2f0",
            "00c1bf5276b4493d90e83a574f616f2c",
            "62184fbf45b948d6943f2bed20546d71",
            "cc3e219c09b64b81921ab6d1989b9651",
            "c1d67fa9f31d40f5bd6aabf7d55f70a3",
            "5e672d4682164b9f9045f94267b6ec13",
            "2e73c362d88242a6a7070130f1c34d01",
            "32187ace56fd446da0b1e5cf6f3c2fc1",
            "5e65bb4465454f698a49104c2c882266",
            "691a1962b4584fb09fe7a72a57e2875d",
            "dee1d1796910425996efbb6e9d185377",
            "77e9ad813c1d401f9a80fb540312dd18",
            "240e739622b649e9b46109be62691fad",
            "5644e8da75c242e7af12f9eafb611c03",
            "0aa1722c597c441aa6e7063b2ba7093d",
            "026faff666774408b01620993f49c450",
            "7627e0436c0440bcac535e1d65969dac",
            "54bd2aecc2364dfb875acb1f865ccd13",
            "5f7b67dc91b54f1580f5722f3a72dbed",
            "3cf8b80948494e4780a805b04a7a584f",
            "1edc2e90e9f6415d976c0d27e8164a70",
            "67e0989dc73947cca07938ae3622b27a",
            "a33ded3270c84d65bc27e53dcfbc17ae",
            "c582a4df7f584c4c81d6642d97391dec",
            "890ba35064754118bbbc4ffb46d4a1e0",
            "a882c21fc08649a8b03ad67a1e5abc6a",
            "64bca7f7f6294b39a7744df085c26687",
            "7db0315f0fcc43938abea557be1abaa7",
            "75c6703f3c904f6699a2e6267141a4c3",
            "32093cd109234494be7ab42ca5af2011",
            "49aab241b82f4a75b82eedbdfada5a22",
            "7eb882de76054c2287ea5f09e76209ef",
            "73b693ea50ac4cd7b8ddf2d28afa15fe",
            "3126d115943a43e193982b951fd8475c",
            "bb2e616dd8234cf9996daa8299b0089f",
            "0ea36c947a4b44759eb5ff35581a01d9",
            "ce1e9610e9354c17a26b96e9ce4168a4",
            "1543f83f38df443c98a1fd5683cf0705",
            "49a7947000a14b65bebfea382510ce2d",
            "ff8d32973e3048508e8edbfd1ed01d20",
            "777c25ef1997478faaa70d5704271198",
            "b2348807998b45a69c57975d33503924",
            "f2df5cc447cb4ddf94a964289dfa8866",
            "70e4a4025f914c7199877fc7aeb66adf",
            "bd7bb0adcfb24604a924444245ca089d",
            "3592abcd6962404c9800a321c7f6e8fc",
            "150d64ced55445c3a2a38983dd61b9d3",
            "bc079a2856f845d3974f7f25d7d51684",
            "4351dadfd168411c955c3f39d2deaea7",
            "f90affb4b38642c2a6e555a2044edd10",
            "5252e147219646f6ace42ab63841bd7d",
            "021b3f635e7e4168947053009c4e265e",
            "4d0ae0258fc142a9999ac396cc9d2a6e",
            "23f0a1fb94cc40e7a2a372798f3c7366",
            "b63b9c90edb24a50bbc3d1775e062d6f",
            "e7abb4df1f884020a9a400b6e5760164",
            "23cfee47840c4347b250a871fbd4ab60",
            "18b068dbae7e483298d640ba5dbfaaa1",
            "31f4ce5af3ac4dd3bb3aa626d40e3f22",
            "54343b855a084c25b29fc31b31e8c54e",
            "74696f3538ae4f36b0a116272960baa9",
            "8de2d033a1f74fb48796115c5ef6555e",
            "6759b866cd48468ebaa0bedf91e712fe",
            "b80dff729c2148c0ab4eca9eb9b24aea",
            "108591e7155b4df6bc78dd8bbe1222d0",
            "15ff3000730146ccbe17437d1684494b",
            "36103f66bbe040d19b53c35dfbab6210",
            "2e6806e69d234ddca8980fbbb8b8e79a",
            "8e184ab3a96844ee930a02c3a6a0625c",
            "bb11f0b6e85a4046b28daf1bf03dee40",
            "c1b64def19404650941ac831cebac4cb",
            "402b24b80dcf4c79890350ef4935da86",
            "8b974b5e8c234cadb7d5c766b2ac2cb7",
            "189e92a631144e33a09815aad3aa0d22",
            "4c6c1149406844c194ba91623b7eb506",
            "86024ebd3623410fb7fe845460533f76",
            "9c1dc1f4f70046739074af6fa322f6d8",
            "d46aa95cae954192beb22b5024265069",
            "d6dfcc38731b44c18dd58871354ca9a2",
            "47ddfa368fdc4203a8aa55adf4cc326e",
            "bb1c371eee044cfea68abe8a135ad502",
            "ea9d901705fa43c99a514671c0e8b3bf",
            "f390e85598a641bb82fc032ab06ffe1b",
            "78855f4f19fd44c8b3550413d230947a",
            "5bcdd6c1a18f460b9514200b3e8f719d"
          ]
        },
        "id": "nH_HIi97sdWS",
        "outputId": "020f8c78-2800-474f-f50a-5a2194a29bda"
      },
      "execution_count": null,
      "outputs": [
        {
          "metadata": {
            "tags": null
          },
          "name": "stdout",
          "output_type": "stream",
          "text": [
            "Loading and Preparing the Dataset-----!! \n",
            "                                         source_text  \\\n",
            "0  summarize: By . Associated Press . PUBLISHED: ...   \n",
            "1  summarize: (CNN) -- Ralph Mata was an internal...   \n",
            "2  summarize: A drunk driver who killed a young w...   \n",
            "3  summarize: (CNN) -- With a breezy sweep of his...   \n",
            "4  summarize: Fleetwood are the only team still t...   \n",
            "\n",
            "                                         target_text  \n",
            "0  Bishop John Folda, of North Dakota, is taking ...  \n",
            "1  Criminal complaint: Cop used his role to help ...  \n",
            "2  Craig Eccleston-Todd, 27, had drunk at least t...  \n",
            "3  Nina dos Santos says Europe must be ready to a...  \n",
            "4  Fleetwood top of League One after 2-0 win at S...  \n",
            "Dataset Successfully Loaded and Prepared-----!! \n",
            "Loading and Initializing the T5 Model -----!! \n"
          ]
        },
        {
          "data": {
            "application/vnd.jupyter.widget-view+json": {
              "model_id": "b271627515614df7af2dfc36b347a699",
              "version_major": 2,
              "version_minor": 0
            },
            "text/plain": [
              "Downloading:   0%|          | 0.00/773k [00:00<?, ?B/s]"
            ]
          },
          "metadata": {},
          "output_type": "display_data"
        },
        {
          "data": {
            "application/vnd.jupyter.widget-view+json": {
              "model_id": "07c8a5c7b57246dd88f896a86f57faee",
              "version_major": 2,
              "version_minor": 0
            },
            "text/plain": [
              "Downloading:   0%|          | 0.00/1.32M [00:00<?, ?B/s]"
            ]
          },
          "metadata": {},
          "output_type": "display_data"
        },
        {
          "data": {
            "application/vnd.jupyter.widget-view+json": {
              "model_id": "457b289ac9404d7086d755314d41e0fb",
              "version_major": 2,
              "version_minor": 0
            },
            "text/plain": [
              "Downloading:   0%|          | 0.00/1.17k [00:00<?, ?B/s]"
            ]
          },
          "metadata": {},
          "output_type": "display_data"
        },
        {
          "data": {
            "application/vnd.jupyter.widget-view+json": {
              "model_id": "5c4408d2306f44f4a3ba0b57fc3e1311",
              "version_major": 2,
              "version_minor": 0
            },
            "text/plain": [
              "Downloading:   0%|          | 0.00/850M [00:00<?, ?B/s]"
            ]
          },
          "metadata": {},
          "output_type": "display_data"
        },
        {
          "metadata": {
            "tags": null
          },
          "name": "stderr",
          "output_type": "stream",
          "text": [
            "GPU available: True, used: True\n",
            "TPU available: False, using: 0 TPU cores\n",
            "IPU available: False, using: 0 IPUs\n",
            "LOCAL_RANK: 0 - CUDA_VISIBLE_DEVICES: [0]\n"
          ]
        },
        {
          "metadata": {
            "tags": null
          },
          "name": "stdout",
          "output_type": "stream",
          "text": [
            "Model Successfully Loaded and Initialized-----!! \n",
            "------------------Starting Training-----------!!\n"
          ]
        },
        {
          "metadata": {
            "tags": null
          },
          "name": "stderr",
          "output_type": "stream",
          "text": [
            "Missing logger folder: /content/lightning_logs\n",
            "\n",
            "  | Name  | Type                       | Params\n",
            "-----------------------------------------------------\n",
            "0 | model | T5ForConditionalGeneration | 222 M \n",
            "-----------------------------------------------------\n",
            "222 M     Trainable params\n",
            "0         Non-trainable params\n",
            "222 M     Total params\n",
            "891.614   Total estimated model params size (MB)\n"
          ]
        },
        {
          "data": {
            "application/vnd.jupyter.widget-view+json": {
              "model_id": "4d8e73da1a224a88b753df7fa4074f4e",
              "version_major": 2,
              "version_minor": 0
            },
            "text/plain": [
              "Validation sanity check: 0it [00:00, ?it/s]"
            ]
          },
          "metadata": {},
          "output_type": "display_data"
        },
        {
          "metadata": {
            "tags": null
          },
          "name": "stderr",
          "output_type": "stream",
          "text": [
            "Global seed set to 42\n"
          ]
        },
        {
          "data": {
            "application/vnd.jupyter.widget-view+json": {
              "model_id": "645e49e46d31456cb1a0c25a480b6ce4",
              "version_major": 2,
              "version_minor": 0
            },
            "text/plain": [
              "Training: 0it [00:00, ?it/s]"
            ]
          },
          "metadata": {},
          "output_type": "display_data"
        },
        {
          "data": {
            "application/vnd.jupyter.widget-view+json": {
              "model_id": "5352ebb214974cbca72564c2dfc7ffad",
              "version_major": 2,
              "version_minor": 0
            },
            "text/plain": [
              "Validating: 0it [00:00, ?it/s]"
            ]
          },
          "metadata": {},
          "output_type": "display_data"
        },
        {
          "data": {
            "application/vnd.jupyter.widget-view+json": {
              "model_id": "2e73c362d88242a6a7070130f1c34d01",
              "version_major": 2,
              "version_minor": 0
            },
            "text/plain": [
              "Validating: 0it [00:00, ?it/s]"
            ]
          },
          "metadata": {},
          "output_type": "display_data"
        },
        {
          "data": {
            "application/vnd.jupyter.widget-view+json": {
              "model_id": "54bd2aecc2364dfb875acb1f865ccd13",
              "version_major": 2,
              "version_minor": 0
            },
            "text/plain": [
              "Validating: 0it [00:00, ?it/s]"
            ]
          },
          "metadata": {},
          "output_type": "display_data"
        },
        {
          "data": {
            "application/vnd.jupyter.widget-view+json": {
              "model_id": "75c6703f3c904f6699a2e6267141a4c3",
              "version_major": 2,
              "version_minor": 0
            },
            "text/plain": [
              "Validating: 0it [00:00, ?it/s]"
            ]
          },
          "metadata": {},
          "output_type": "display_data"
        },
        {
          "data": {
            "application/vnd.jupyter.widget-view+json": {
              "model_id": "ff8d32973e3048508e8edbfd1ed01d20",
              "version_major": 2,
              "version_minor": 0
            },
            "text/plain": [
              "Validating: 0it [00:00, ?it/s]"
            ]
          },
          "metadata": {},
          "output_type": "display_data"
        },
        {
          "data": {
            "application/vnd.jupyter.widget-view+json": {
              "model_id": "777c25ef1997478faaa70d5704271198",
              "version_major": 2,
              "version_minor": 0
            },
            "text/plain": [
              "Validating: 0it [00:00, ?it/s]"
            ]
          },
          "metadata": {},
          "output_type": "display_data"
        },
        {
          "output_type": "display_data",
          "data": {
            "text/plain": [
              "Validating: 0it [00:00, ?it/s]"
            ],
            "application/vnd.jupyter.widget-view+json": {
              "version_major": 2,
              "version_minor": 0,
              "model_id": "b2348807998b45a69c57975d33503924"
            }
          },
          "metadata": {}
        },
        {
          "output_type": "display_data",
          "data": {
            "text/plain": [
              "Validating: 0it [00:00, ?it/s]"
            ],
            "application/vnd.jupyter.widget-view+json": {
              "version_major": 2,
              "version_minor": 0,
              "model_id": "4d0ae0258fc142a9999ac396cc9d2a6e"
            }
          },
          "metadata": {}
        },
        {
          "output_type": "display_data",
          "data": {
            "text/plain": [
              "Validating: 0it [00:00, ?it/s]"
            ],
            "application/vnd.jupyter.widget-view+json": {
              "version_major": 2,
              "version_minor": 0,
              "model_id": "b80dff729c2148c0ab4eca9eb9b24aea"
            }
          },
          "metadata": {}
        },
        {
          "output_type": "display_data",
          "data": {
            "text/plain": [
              "Validating: 0it [00:00, ?it/s]"
            ],
            "application/vnd.jupyter.widget-view+json": {
              "version_major": 2,
              "version_minor": 0,
              "model_id": "4c6c1149406844c194ba91623b7eb506"
            }
          },
          "metadata": {}
        },
        {
          "output_type": "stream",
          "name": "stdout",
          "text": [
            "Training complete-----!!!\n"
          ]
        }
      ]
    },
    {
      "cell_type": "code",
      "source": [
        "! ( cd outputs; ls )"
      ],
      "metadata": {
        "colab": {
          "base_uri": "https://localhost:8080/"
        },
        "id": "vF28bYpxlL1p",
        "outputId": "b3d27c69-205b-41d5-e402-89c955b43fb8"
      },
      "execution_count": null,
      "outputs": [
        {
          "output_type": "stream",
          "name": "stdout",
          "text": [
            "simplet5-epoch-0-train-loss-1.9043-val-loss-1.7073\n",
            "simplet5-epoch-1-train-loss-1.6624-val-loss-1.7131\n",
            "simplet5-epoch-2-train-loss-1.4894-val-loss-1.7391\n",
            "simplet5-epoch-3-train-loss-1.3458-val-loss-1.7753\n",
            "simplet5-epoch-4-train-loss-1.2245-val-loss-1.8209\n",
            "simplet5-epoch-5-train-loss-1.1137-val-loss-1.8812\n",
            "simplet5-epoch-6-train-loss-1.0222-val-loss-1.9599\n",
            "simplet5-epoch-7-train-loss-0.9329-val-loss-2.0052\n",
            "simplet5-epoch-8-train-loss-0.8605-val-loss-2.0721\n",
            "simplet5-epoch-9-train-loss-0.7905-val-loss-2.1557\n"
          ]
        }
      ]
    },
    {
      "cell_type": "code",
      "source": [
        "!zip -r /content/outputs.zip /content/outputs"
      ],
      "metadata": {
        "colab": {
          "base_uri": "https://localhost:8080/"
        },
        "id": "iTUY8Cvc4USM",
        "outputId": "0eba917e-6e3b-4190-ac26-d5a921366a19"
      },
      "execution_count": null,
      "outputs": [
        {
          "output_type": "stream",
          "name": "stdout",
          "text": [
            "  adding: content/outputs/ (stored 0%)\n",
            "  adding: content/outputs/simplet5-epoch-8-train-loss-0.8605-val-loss-2.0721/ (stored 0%)\n",
            "  adding: content/outputs/simplet5-epoch-8-train-loss-0.8605-val-loss-2.0721/tokenizer.json (deflated 74%)\n",
            "  adding: content/outputs/simplet5-epoch-8-train-loss-0.8605-val-loss-2.0721/special_tokens_map.json (deflated 83%)\n",
            "  adding: content/outputs/simplet5-epoch-8-train-loss-0.8605-val-loss-2.0721/pytorch_model.bin (deflated 7%)\n",
            "  adding: content/outputs/simplet5-epoch-8-train-loss-0.8605-val-loss-2.0721/spiece.model (deflated 48%)\n",
            "  adding: content/outputs/simplet5-epoch-8-train-loss-0.8605-val-loss-2.0721/tokenizer_config.json (deflated 80%)\n",
            "  adding: content/outputs/simplet5-epoch-8-train-loss-0.8605-val-loss-2.0721/config.json (deflated 63%)\n",
            "  adding: content/outputs/simplet5-epoch-7-train-loss-0.9329-val-loss-2.0052/ (stored 0%)\n",
            "  adding: content/outputs/simplet5-epoch-7-train-loss-0.9329-val-loss-2.0052/tokenizer.json (deflated 74%)\n",
            "  adding: content/outputs/simplet5-epoch-7-train-loss-0.9329-val-loss-2.0052/special_tokens_map.json (deflated 83%)\n",
            "  adding: content/outputs/simplet5-epoch-7-train-loss-0.9329-val-loss-2.0052/pytorch_model.bin (deflated 7%)\n",
            "  adding: content/outputs/simplet5-epoch-7-train-loss-0.9329-val-loss-2.0052/spiece.model (deflated 48%)\n",
            "  adding: content/outputs/simplet5-epoch-7-train-loss-0.9329-val-loss-2.0052/tokenizer_config.json (deflated 80%)\n",
            "  adding: content/outputs/simplet5-epoch-7-train-loss-0.9329-val-loss-2.0052/config.json (deflated 63%)\n",
            "  adding: content/outputs/simplet5-epoch-1-train-loss-1.6624-val-loss-1.7131/ (stored 0%)\n",
            "  adding: content/outputs/simplet5-epoch-1-train-loss-1.6624-val-loss-1.7131/tokenizer.json (deflated 74%)\n",
            "  adding: content/outputs/simplet5-epoch-1-train-loss-1.6624-val-loss-1.7131/special_tokens_map.json (deflated 83%)\n",
            "  adding: content/outputs/simplet5-epoch-1-train-loss-1.6624-val-loss-1.7131/pytorch_model.bin (deflated 8%)\n",
            "  adding: content/outputs/simplet5-epoch-1-train-loss-1.6624-val-loss-1.7131/spiece.model (deflated 48%)\n",
            "  adding: content/outputs/simplet5-epoch-1-train-loss-1.6624-val-loss-1.7131/tokenizer_config.json (deflated 80%)\n",
            "  adding: content/outputs/simplet5-epoch-1-train-loss-1.6624-val-loss-1.7131/config.json (deflated 63%)\n",
            "  adding: content/outputs/simplet5-epoch-5-train-loss-1.1137-val-loss-1.8812/ (stored 0%)\n",
            "  adding: content/outputs/simplet5-epoch-5-train-loss-1.1137-val-loss-1.8812/tokenizer.json (deflated 74%)\n",
            "  adding: content/outputs/simplet5-epoch-5-train-loss-1.1137-val-loss-1.8812/special_tokens_map.json (deflated 83%)\n",
            "  adding: content/outputs/simplet5-epoch-5-train-loss-1.1137-val-loss-1.8812/pytorch_model.bin (deflated 7%)\n",
            "  adding: content/outputs/simplet5-epoch-5-train-loss-1.1137-val-loss-1.8812/spiece.model (deflated 48%)\n",
            "  adding: content/outputs/simplet5-epoch-5-train-loss-1.1137-val-loss-1.8812/tokenizer_config.json (deflated 80%)\n",
            "  adding: content/outputs/simplet5-epoch-5-train-loss-1.1137-val-loss-1.8812/config.json (deflated 63%)\n",
            "  adding: content/outputs/simplet5-epoch-4-train-loss-1.2245-val-loss-1.8209/ (stored 0%)\n",
            "  adding: content/outputs/simplet5-epoch-4-train-loss-1.2245-val-loss-1.8209/tokenizer.json (deflated 74%)\n",
            "  adding: content/outputs/simplet5-epoch-4-train-loss-1.2245-val-loss-1.8209/special_tokens_map.json (deflated 83%)\n",
            "  adding: content/outputs/simplet5-epoch-4-train-loss-1.2245-val-loss-1.8209/pytorch_model.bin (deflated 7%)\n",
            "  adding: content/outputs/simplet5-epoch-4-train-loss-1.2245-val-loss-1.8209/spiece.model (deflated 48%)\n",
            "  adding: content/outputs/simplet5-epoch-4-train-loss-1.2245-val-loss-1.8209/tokenizer_config.json (deflated 80%)\n",
            "  adding: content/outputs/simplet5-epoch-4-train-loss-1.2245-val-loss-1.8209/config.json (deflated 63%)\n",
            "  adding: content/outputs/simplet5-epoch-9-train-loss-0.7905-val-loss-2.1557/ (stored 0%)\n",
            "  adding: content/outputs/simplet5-epoch-9-train-loss-0.7905-val-loss-2.1557/tokenizer.json (deflated 74%)\n",
            "  adding: content/outputs/simplet5-epoch-9-train-loss-0.7905-val-loss-2.1557/special_tokens_map.json (deflated 83%)\n",
            "  adding: content/outputs/simplet5-epoch-9-train-loss-0.7905-val-loss-2.1557/pytorch_model.bin (deflated 7%)\n",
            "  adding: content/outputs/simplet5-epoch-9-train-loss-0.7905-val-loss-2.1557/spiece.model (deflated 48%)\n",
            "  adding: content/outputs/simplet5-epoch-9-train-loss-0.7905-val-loss-2.1557/tokenizer_config.json (deflated 80%)\n",
            "  adding: content/outputs/simplet5-epoch-9-train-loss-0.7905-val-loss-2.1557/config.json (deflated 63%)\n",
            "  adding: content/outputs/simplet5-epoch-2-train-loss-1.4894-val-loss-1.7391/ (stored 0%)\n",
            "  adding: content/outputs/simplet5-epoch-2-train-loss-1.4894-val-loss-1.7391/tokenizer.json (deflated 74%)\n",
            "  adding: content/outputs/simplet5-epoch-2-train-loss-1.4894-val-loss-1.7391/special_tokens_map.json (deflated 83%)\n",
            "  adding: content/outputs/simplet5-epoch-2-train-loss-1.4894-val-loss-1.7391/pytorch_model.bin (deflated 7%)\n",
            "  adding: content/outputs/simplet5-epoch-2-train-loss-1.4894-val-loss-1.7391/spiece.model (deflated 48%)\n",
            "  adding: content/outputs/simplet5-epoch-2-train-loss-1.4894-val-loss-1.7391/tokenizer_config.json (deflated 80%)\n",
            "  adding: content/outputs/simplet5-epoch-2-train-loss-1.4894-val-loss-1.7391/config.json (deflated 63%)\n",
            "  adding: content/outputs/simplet5-epoch-6-train-loss-1.0222-val-loss-1.9599/ (stored 0%)\n",
            "  adding: content/outputs/simplet5-epoch-6-train-loss-1.0222-val-loss-1.9599/tokenizer.json (deflated 74%)\n",
            "  adding: content/outputs/simplet5-epoch-6-train-loss-1.0222-val-loss-1.9599/special_tokens_map.json (deflated 83%)\n",
            "  adding: content/outputs/simplet5-epoch-6-train-loss-1.0222-val-loss-1.9599/pytorch_model.bin (deflated 7%)\n",
            "  adding: content/outputs/simplet5-epoch-6-train-loss-1.0222-val-loss-1.9599/spiece.model (deflated 48%)\n",
            "  adding: content/outputs/simplet5-epoch-6-train-loss-1.0222-val-loss-1.9599/tokenizer_config.json (deflated 80%)\n",
            "  adding: content/outputs/simplet5-epoch-6-train-loss-1.0222-val-loss-1.9599/config.json (deflated 63%)\n",
            "  adding: content/outputs/simplet5-epoch-3-train-loss-1.3458-val-loss-1.7753/ (stored 0%)\n",
            "  adding: content/outputs/simplet5-epoch-3-train-loss-1.3458-val-loss-1.7753/tokenizer.json (deflated 74%)\n",
            "  adding: content/outputs/simplet5-epoch-3-train-loss-1.3458-val-loss-1.7753/special_tokens_map.json (deflated 83%)\n",
            "  adding: content/outputs/simplet5-epoch-3-train-loss-1.3458-val-loss-1.7753/pytorch_model.bin (deflated 7%)\n",
            "  adding: content/outputs/simplet5-epoch-3-train-loss-1.3458-val-loss-1.7753/spiece.model (deflated 48%)\n",
            "  adding: content/outputs/simplet5-epoch-3-train-loss-1.3458-val-loss-1.7753/tokenizer_config.json (deflated 80%)\n",
            "  adding: content/outputs/simplet5-epoch-3-train-loss-1.3458-val-loss-1.7753/config.json (deflated 63%)\n",
            "  adding: content/outputs/simplet5-epoch-0-train-loss-1.9043-val-loss-1.7073/ (stored 0%)\n",
            "  adding: content/outputs/simplet5-epoch-0-train-loss-1.9043-val-loss-1.7073/tokenizer.json (deflated 74%)\n",
            "  adding: content/outputs/simplet5-epoch-0-train-loss-1.9043-val-loss-1.7073/special_tokens_map.json (deflated 83%)\n",
            "  adding: content/outputs/simplet5-epoch-0-train-loss-1.9043-val-loss-1.7073/pytorch_model.bin (deflated 8%)\n",
            "  adding: content/outputs/simplet5-epoch-0-train-loss-1.9043-val-loss-1.7073/spiece.model (deflated 48%)\n",
            "  adding: content/outputs/simplet5-epoch-0-train-loss-1.9043-val-loss-1.7073/tokenizer_config.json (deflated 80%)\n",
            "  adding: content/outputs/simplet5-epoch-0-train-loss-1.9043-val-loss-1.7073/config.json (deflated 63%)\n"
          ]
        }
      ]
    },
    {
      "cell_type": "code",
      "source": [
        "!zip -r  /content/outputs_epoch9.zip /content/outputs/simplet5-epoch-9-train-loss-0.7905-val-loss-2.1557"
      ],
      "metadata": {
        "colab": {
          "base_uri": "https://localhost:8080/"
        },
        "id": "9IX6JUa5HviA",
        "outputId": "ab4a1142-7043-47b9-d282-b1b17a764eeb"
      },
      "execution_count": null,
      "outputs": [
        {
          "output_type": "stream",
          "name": "stdout",
          "text": [
            "  adding: content/outputs/simplet5-epoch-9-train-loss-0.7905-val-loss-2.1557/ (stored 0%)\n",
            "  adding: content/outputs/simplet5-epoch-9-train-loss-0.7905-val-loss-2.1557/tokenizer.json (deflated 74%)\n",
            "  adding: content/outputs/simplet5-epoch-9-train-loss-0.7905-val-loss-2.1557/special_tokens_map.json (deflated 83%)\n",
            "  adding: content/outputs/simplet5-epoch-9-train-loss-0.7905-val-loss-2.1557/pytorch_model.bin (deflated 7%)\n",
            "  adding: content/outputs/simplet5-epoch-9-train-loss-0.7905-val-loss-2.1557/spiece.model (deflated 48%)\n",
            "  adding: content/outputs/simplet5-epoch-9-train-loss-0.7905-val-loss-2.1557/tokenizer_config.json (deflated 80%)\n",
            "  adding: content/outputs/simplet5-epoch-9-train-loss-0.7905-val-loss-2.1557/config.json (deflated 63%)\n"
          ]
        }
      ]
    },
    {
      "cell_type": "code",
      "source": [
        "!zip -r  /content/outputs_epoch5.zip /content/outputs/simplet5-epoch-5-train-loss-1.1137-val-loss-1.8812"
      ],
      "metadata": {
        "colab": {
          "base_uri": "https://localhost:8080/"
        },
        "outputId": "f5dd0132-2e7e-4d02-d617-d603f4b12b17",
        "id": "OeCaOp_gH1Hp"
      },
      "execution_count": null,
      "outputs": [
        {
          "output_type": "stream",
          "name": "stdout",
          "text": [
            "  adding: content/outputs/simplet5-epoch-5-train-loss-1.1137-val-loss-1.8812/ (stored 0%)\n",
            "  adding: content/outputs/simplet5-epoch-5-train-loss-1.1137-val-loss-1.8812/tokenizer.json (deflated 74%)\n",
            "  adding: content/outputs/simplet5-epoch-5-train-loss-1.1137-val-loss-1.8812/special_tokens_map.json (deflated 83%)\n",
            "  adding: content/outputs/simplet5-epoch-5-train-loss-1.1137-val-loss-1.8812/pytorch_model.bin (deflated 7%)\n",
            "  adding: content/outputs/simplet5-epoch-5-train-loss-1.1137-val-loss-1.8812/spiece.model (deflated 48%)\n",
            "  adding: content/outputs/simplet5-epoch-5-train-loss-1.1137-val-loss-1.8812/tokenizer_config.json (deflated 80%)\n",
            "  adding: content/outputs/simplet5-epoch-5-train-loss-1.1137-val-loss-1.8812/config.json (deflated 63%)\n"
          ]
        }
      ]
    },
    {
      "cell_type": "code",
      "source": [
        "\n",
        "files.download('/content/outputs.zip')"
      ],
      "metadata": {
        "colab": {
          "base_uri": "https://localhost:8080/",
          "height": 33
        },
        "id": "RrBla79p7fHt",
        "outputId": "e775d92e-2905-4d54-b6c0-4d5a737555c2"
      },
      "execution_count": null,
      "outputs": [
        {
          "output_type": "display_data",
          "data": {
            "text/plain": [
              "<IPython.core.display.Javascript object>"
            ],
            "application/javascript": [
              "\n",
              "    async function download(id, filename, size) {\n",
              "      if (!google.colab.kernel.accessAllowed) {\n",
              "        return;\n",
              "      }\n",
              "      const div = document.createElement('div');\n",
              "      const label = document.createElement('label');\n",
              "      label.textContent = `Downloading \"${filename}\": `;\n",
              "      div.appendChild(label);\n",
              "      const progress = document.createElement('progress');\n",
              "      progress.max = size;\n",
              "      div.appendChild(progress);\n",
              "      document.body.appendChild(div);\n",
              "\n",
              "      const buffers = [];\n",
              "      let downloaded = 0;\n",
              "\n",
              "      const channel = await google.colab.kernel.comms.open(id);\n",
              "      // Send a message to notify the kernel that we're ready.\n",
              "      channel.send({})\n",
              "\n",
              "      for await (const message of channel.messages) {\n",
              "        // Send a message to notify the kernel that we're ready.\n",
              "        channel.send({})\n",
              "        if (message.buffers) {\n",
              "          for (const buffer of message.buffers) {\n",
              "            buffers.push(buffer);\n",
              "            downloaded += buffer.byteLength;\n",
              "            progress.value = downloaded;\n",
              "          }\n",
              "        }\n",
              "      }\n",
              "      const blob = new Blob(buffers, {type: 'application/binary'});\n",
              "      const a = document.createElement('a');\n",
              "      a.href = window.URL.createObjectURL(blob);\n",
              "      a.download = filename;\n",
              "      div.appendChild(a);\n",
              "      a.click();\n",
              "      div.remove();\n",
              "    }\n",
              "  "
            ]
          },
          "metadata": {}
        },
        {
          "output_type": "display_data",
          "data": {
            "text/plain": [
              "<IPython.core.display.Javascript object>"
            ],
            "application/javascript": [
              "download(\"download_b818e57b-c83d-49fd-9bfc-75099c5e631d\", \"outputs.zip\", 8265532042)"
            ]
          },
          "metadata": {}
        }
      ]
    },
    {
      "cell_type": "code",
      "source": [
        "files.download('/content/outputs_epoch5.zip')"
      ],
      "metadata": {
        "colab": {
          "base_uri": "https://localhost:8080/",
          "height": 33
        },
        "id": "UdLPzkFUIn26",
        "outputId": "795fec6a-e4a1-4958-d184-6f4c17d0a185"
      },
      "execution_count": null,
      "outputs": [
        {
          "output_type": "display_data",
          "data": {
            "text/plain": [
              "<IPython.core.display.Javascript object>"
            ],
            "application/javascript": [
              "\n",
              "    async function download(id, filename, size) {\n",
              "      if (!google.colab.kernel.accessAllowed) {\n",
              "        return;\n",
              "      }\n",
              "      const div = document.createElement('div');\n",
              "      const label = document.createElement('label');\n",
              "      label.textContent = `Downloading \"${filename}\": `;\n",
              "      div.appendChild(label);\n",
              "      const progress = document.createElement('progress');\n",
              "      progress.max = size;\n",
              "      div.appendChild(progress);\n",
              "      document.body.appendChild(div);\n",
              "\n",
              "      const buffers = [];\n",
              "      let downloaded = 0;\n",
              "\n",
              "      const channel = await google.colab.kernel.comms.open(id);\n",
              "      // Send a message to notify the kernel that we're ready.\n",
              "      channel.send({})\n",
              "\n",
              "      for await (const message of channel.messages) {\n",
              "        // Send a message to notify the kernel that we're ready.\n",
              "        channel.send({})\n",
              "        if (message.buffers) {\n",
              "          for (const buffer of message.buffers) {\n",
              "            buffers.push(buffer);\n",
              "            downloaded += buffer.byteLength;\n",
              "            progress.value = downloaded;\n",
              "          }\n",
              "        }\n",
              "      }\n",
              "      const blob = new Blob(buffers, {type: 'application/binary'});\n",
              "      const a = document.createElement('a');\n",
              "      a.href = window.URL.createObjectURL(blob);\n",
              "      a.download = filename;\n",
              "      div.appendChild(a);\n",
              "      a.click();\n",
              "      div.remove();\n",
              "    }\n",
              "  "
            ]
          },
          "metadata": {}
        },
        {
          "output_type": "display_data",
          "data": {
            "text/plain": [
              "<IPython.core.display.Javascript object>"
            ],
            "application/javascript": [
              "download(\"download_c3e94a48-339a-4fbb-b587-ef083077bf2e\", \"outputs_epoch5.zip\", 826859510)"
            ]
          },
          "metadata": {}
        }
      ]
    },
    {
      "cell_type": "code",
      "source": [
        "files.download('/content/outputs_epoch9.zip')"
      ],
      "metadata": {
        "colab": {
          "base_uri": "https://localhost:8080/",
          "height": 33
        },
        "id": "huGYqSvhIzZG",
        "outputId": "11f12972-23ce-4090-cc25-90adf683f5c5"
      },
      "execution_count": null,
      "outputs": [
        {
          "output_type": "display_data",
          "data": {
            "text/plain": [
              "<IPython.core.display.Javascript object>"
            ],
            "application/javascript": [
              "\n",
              "    async function download(id, filename, size) {\n",
              "      if (!google.colab.kernel.accessAllowed) {\n",
              "        return;\n",
              "      }\n",
              "      const div = document.createElement('div');\n",
              "      const label = document.createElement('label');\n",
              "      label.textContent = `Downloading \"${filename}\": `;\n",
              "      div.appendChild(label);\n",
              "      const progress = document.createElement('progress');\n",
              "      progress.max = size;\n",
              "      div.appendChild(progress);\n",
              "      document.body.appendChild(div);\n",
              "\n",
              "      const buffers = [];\n",
              "      let downloaded = 0;\n",
              "\n",
              "      const channel = await google.colab.kernel.comms.open(id);\n",
              "      // Send a message to notify the kernel that we're ready.\n",
              "      channel.send({})\n",
              "\n",
              "      for await (const message of channel.messages) {\n",
              "        // Send a message to notify the kernel that we're ready.\n",
              "        channel.send({})\n",
              "        if (message.buffers) {\n",
              "          for (const buffer of message.buffers) {\n",
              "            buffers.push(buffer);\n",
              "            downloaded += buffer.byteLength;\n",
              "            progress.value = downloaded;\n",
              "          }\n",
              "        }\n",
              "      }\n",
              "      const blob = new Blob(buffers, {type: 'application/binary'});\n",
              "      const a = document.createElement('a');\n",
              "      a.href = window.URL.createObjectURL(blob);\n",
              "      a.download = filename;\n",
              "      div.appendChild(a);\n",
              "      a.click();\n",
              "      div.remove();\n",
              "    }\n",
              "  "
            ]
          },
          "metadata": {}
        },
        {
          "output_type": "display_data",
          "data": {
            "text/plain": [
              "<IPython.core.display.Javascript object>"
            ],
            "application/javascript": [
              "download(\"download_e3e817c0-ded9-47a1-9677-bf88f98297ea\", \"outputs_epoch9.zip\", 827367101)"
            ]
          },
          "metadata": {}
        }
      ]
    },
    {
      "cell_type": "code",
      "source": [
        "best_weight = \"./outputs/simplet5-epoch-9-train-loss-0.7905-val-loss-2.1557\" #1"
      ],
      "metadata": {
        "id": "hw5bbi7NtCTA"
      },
      "execution_count": null,
      "outputs": []
    },
    {
      "cell_type": "code",
      "source": [
        "t5_model = T5Model(model_name=Settings.MODEL_NAME,model_type=Settings.MODEL_TYPE)\n",
        "t5_model.load_model(model_type=Settings.MODEL_TYPE,\n",
        "                   use_gpu=Settings.USE_GPU,\n",
        "                   model_path=best_weight\n",
        "                   )"
      ],
      "metadata": {
        "id": "wZb5YDmrBLyv"
      },
      "execution_count": null,
      "outputs": []
    },
    {
      "cell_type": "code",
      "source": [
        "df_test = pd.read_csv('/content/drive/My Drive/DL 2/test.csv')\n",
        "df_test = df_test.drop(['id'],axis=1)"
      ],
      "metadata": {
        "id": "XXlNTFao_b1z"
      },
      "execution_count": null,
      "outputs": []
    },
    {
      "cell_type": "code",
      "source": [
        "cutoff_summary = 5\n",
        "cutoff_text = 180\n",
        "df_test= df_test[(df_test['highlights'].apply(lambda x: len(x.split()) >= cutoff_summary)) & (df_test['article'].apply(lambda x: len(x.split()) <= cutoff_text))]"
      ],
      "metadata": {
        "id": "_On52I7BDE8e"
      },
      "execution_count": null,
      "outputs": []
    },
    {
      "cell_type": "code",
      "source": [
        "ref_summaries = list(df_test['highlights'])\n",
        "len(ref_summaries)"
      ],
      "metadata": {
        "id": "EDj26jnuCUn9"
      },
      "execution_count": null,
      "outputs": []
    },
    {
      "cell_type": "code",
      "source": [
        "texts = list(df_test['article'])"
      ],
      "metadata": {
        "id": "JHtbHzVcDjVc"
      },
      "execution_count": null,
      "outputs": []
    },
    {
      "cell_type": "code",
      "source": [
        "t5_model.model.predict(texts[5])"
      ],
      "metadata": {
        "colab": {
          "base_uri": "https://localhost:8080/"
        },
        "id": "DphWiUtmDZZP",
        "outputId": "7b44f4c8-d8f3-4d85-e9d1-c039f04abf72"
      },
      "execution_count": null,
      "outputs": [
        {
          "output_type": "execute_result",
          "data": {
            "text/plain": [
              "[\"Detective Sergeant Stephen Phillips, 46, and police constables Christopher Evans, 37, and Michael Stokes, 34, all face charges of 'theft by a serving police officer' Police were all arrested as a result of an investigation\"]"
            ]
          },
          "metadata": {},
          "execution_count": 18
        }
      ]
    },
    {
      "cell_type": "code",
      "source": [
        "candidate_summaries = []\n",
        "\n",
        "for text in texts:\n",
        "  print(type(text))\n",
        "  candidate = t5_model.model.predict(text)\n",
        "  candidate_summaries.append(candidate)"
      ],
      "metadata": {
        "id": "lZFkeE4NDvP_",
        "colab": {
          "base_uri": "https://localhost:8080/"
        },
        "outputId": "980cbe27-673b-4a1a-e79c-e932e6788872"
      },
      "execution_count": null,
      "outputs": [
        {
          "output_type": "stream",
          "name": "stdout",
          "text": [
            "<class 'str'>\n",
            "<class 'str'>\n",
            "<class 'str'>\n",
            "<class 'str'>\n",
            "<class 'str'>\n",
            "<class 'str'>\n",
            "<class 'str'>\n",
            "<class 'str'>\n",
            "<class 'str'>\n",
            "<class 'str'>\n",
            "<class 'str'>\n",
            "<class 'str'>\n",
            "<class 'str'>\n",
            "<class 'str'>\n",
            "<class 'str'>\n",
            "<class 'str'>\n",
            "<class 'str'>\n",
            "<class 'str'>\n",
            "<class 'str'>\n",
            "<class 'str'>\n",
            "<class 'str'>\n",
            "<class 'str'>\n",
            "<class 'str'>\n",
            "<class 'str'>\n",
            "<class 'str'>\n",
            "<class 'str'>\n",
            "<class 'str'>\n",
            "<class 'str'>\n",
            "<class 'str'>\n",
            "<class 'str'>\n",
            "<class 'str'>\n",
            "<class 'str'>\n",
            "<class 'str'>\n",
            "<class 'str'>\n",
            "<class 'str'>\n",
            "<class 'str'>\n",
            "<class 'str'>\n",
            "<class 'str'>\n",
            "<class 'str'>\n",
            "<class 'str'>\n",
            "<class 'str'>\n",
            "<class 'str'>\n",
            "<class 'str'>\n",
            "<class 'str'>\n",
            "<class 'str'>\n",
            "<class 'str'>\n",
            "<class 'str'>\n",
            "<class 'str'>\n",
            "<class 'str'>\n",
            "<class 'str'>\n",
            "<class 'str'>\n",
            "<class 'str'>\n",
            "<class 'str'>\n",
            "<class 'str'>\n",
            "<class 'str'>\n",
            "<class 'str'>\n",
            "<class 'str'>\n",
            "<class 'str'>\n",
            "<class 'str'>\n",
            "<class 'str'>\n",
            "<class 'str'>\n",
            "<class 'str'>\n",
            "<class 'str'>\n",
            "<class 'str'>\n",
            "<class 'str'>\n",
            "<class 'str'>\n",
            "<class 'str'>\n",
            "<class 'str'>\n",
            "<class 'str'>\n",
            "<class 'str'>\n",
            "<class 'str'>\n",
            "<class 'str'>\n",
            "<class 'str'>\n",
            "<class 'str'>\n",
            "<class 'str'>\n",
            "<class 'str'>\n",
            "<class 'str'>\n",
            "<class 'str'>\n",
            "<class 'str'>\n",
            "<class 'str'>\n",
            "<class 'str'>\n",
            "<class 'str'>\n",
            "<class 'str'>\n",
            "<class 'str'>\n",
            "<class 'str'>\n",
            "<class 'str'>\n",
            "<class 'str'>\n",
            "<class 'str'>\n",
            "<class 'str'>\n",
            "<class 'str'>\n",
            "<class 'str'>\n",
            "<class 'str'>\n",
            "<class 'str'>\n",
            "<class 'str'>\n",
            "<class 'str'>\n",
            "<class 'str'>\n",
            "<class 'str'>\n",
            "<class 'str'>\n",
            "<class 'str'>\n",
            "<class 'str'>\n",
            "<class 'str'>\n",
            "<class 'str'>\n",
            "<class 'str'>\n",
            "<class 'str'>\n",
            "<class 'str'>\n",
            "<class 'str'>\n",
            "<class 'str'>\n",
            "<class 'str'>\n",
            "<class 'str'>\n",
            "<class 'str'>\n",
            "<class 'str'>\n",
            "<class 'str'>\n",
            "<class 'str'>\n",
            "<class 'str'>\n",
            "<class 'str'>\n",
            "<class 'str'>\n",
            "<class 'str'>\n",
            "<class 'str'>\n",
            "<class 'str'>\n",
            "<class 'str'>\n",
            "<class 'str'>\n",
            "<class 'str'>\n",
            "<class 'str'>\n",
            "<class 'str'>\n",
            "<class 'str'>\n",
            "<class 'str'>\n",
            "<class 'str'>\n",
            "<class 'str'>\n",
            "<class 'str'>\n",
            "<class 'str'>\n",
            "<class 'str'>\n",
            "<class 'str'>\n",
            "<class 'str'>\n",
            "<class 'str'>\n",
            "<class 'str'>\n",
            "<class 'str'>\n",
            "<class 'str'>\n",
            "<class 'str'>\n",
            "<class 'str'>\n",
            "<class 'str'>\n",
            "<class 'str'>\n",
            "<class 'str'>\n",
            "<class 'str'>\n",
            "<class 'str'>\n",
            "<class 'str'>\n",
            "<class 'str'>\n",
            "<class 'str'>\n",
            "<class 'str'>\n",
            "<class 'str'>\n",
            "<class 'str'>\n",
            "<class 'str'>\n",
            "<class 'str'>\n",
            "<class 'str'>\n",
            "<class 'str'>\n",
            "<class 'str'>\n",
            "<class 'str'>\n",
            "<class 'str'>\n",
            "<class 'str'>\n",
            "<class 'str'>\n",
            "<class 'str'>\n",
            "<class 'str'>\n",
            "<class 'str'>\n",
            "<class 'str'>\n",
            "<class 'str'>\n",
            "<class 'str'>\n",
            "<class 'str'>\n",
            "<class 'str'>\n",
            "<class 'str'>\n",
            "<class 'str'>\n",
            "<class 'str'>\n",
            "<class 'str'>\n",
            "<class 'str'>\n",
            "<class 'str'>\n",
            "<class 'str'>\n",
            "<class 'str'>\n",
            "<class 'str'>\n",
            "<class 'str'>\n",
            "<class 'str'>\n",
            "<class 'str'>\n",
            "<class 'str'>\n",
            "<class 'str'>\n",
            "<class 'str'>\n",
            "<class 'str'>\n",
            "<class 'str'>\n",
            "<class 'str'>\n",
            "<class 'str'>\n",
            "<class 'str'>\n",
            "<class 'str'>\n"
          ]
        }
      ]
    },
    {
      "cell_type": "code",
      "source": [
        "new_arr = np.array(candidate_summaries)   \n",
        "file = open(\"hypertuned-summaries.txt\", \"w+\") \n",
        "content = str(new_arr)\n",
        "file.write(content)\n",
        "file.close()"
      ],
      "metadata": {
        "id": "axXS96QS3QqD"
      },
      "execution_count": null,
      "outputs": []
    },
    {
      "cell_type": "code",
      "source": [
        "candidate_summaries[:5]"
      ],
      "metadata": {
        "id": "ThrQ2exED4kU",
        "colab": {
          "base_uri": "https://localhost:8080/"
        },
        "outputId": "bb7b975f-4de1-4379-ed67-53975b793ca3"
      },
      "execution_count": null,
      "outputs": [
        {
          "output_type": "execute_result",
          "data": {
            "text/plain": [
              "[[\"Dougie Freedman is on the verge of agreeing a new two-year deal at Nottingham Forest. Freedman replaced Stuart Pearce in February and has impressed at the City Ground. Forest's owners are\"],\n",
              " [\"England captain Alastair Cook completed a much-needed century on the second morning of England's opening tour match in the West Indies. Cook resumed on 95 and reached three figures with minimal fuss before retiring out \"],\n",
              " [\"West Ham are closing in on the signature of Jamaican starlet DeShane Beckford. The 17-year-old was impressed on trial with West Ham's academy. West Ham have revealed season tickets at the Olympic Stadium will cost as little\"],\n",
              " ['Tim Swiel will return to Harlequins on a full-time contract. Fly-half spent four months on loan with Quins earlier this term. Swiel made 10 appearances for the Sharks during his loan spell'],\n",
              " ['\"Avengers\" character Jeremy Renner is the star of \"Thinking Out Loud\" He\\'s also known for his collection of scarves and berets. The actor has appeared in several films, including']]"
            ]
          },
          "metadata": {},
          "execution_count": 33
        }
      ]
    },
    {
      "cell_type": "code",
      "source": [
        "files.download(\"sample1.txt\")"
      ],
      "metadata": {
        "id": "Ng3j1OghEAYL",
        "colab": {
          "base_uri": "https://localhost:8080/",
          "height": 17
        },
        "outputId": "da03ac03-9889-4828-a621-20e39e259294"
      },
      "execution_count": null,
      "outputs": [
        {
          "output_type": "display_data",
          "data": {
            "text/plain": [
              "<IPython.core.display.Javascript object>"
            ],
            "application/javascript": [
              "\n",
              "    async function download(id, filename, size) {\n",
              "      if (!google.colab.kernel.accessAllowed) {\n",
              "        return;\n",
              "      }\n",
              "      const div = document.createElement('div');\n",
              "      const label = document.createElement('label');\n",
              "      label.textContent = `Downloading \"${filename}\": `;\n",
              "      div.appendChild(label);\n",
              "      const progress = document.createElement('progress');\n",
              "      progress.max = size;\n",
              "      div.appendChild(progress);\n",
              "      document.body.appendChild(div);\n",
              "\n",
              "      const buffers = [];\n",
              "      let downloaded = 0;\n",
              "\n",
              "      const channel = await google.colab.kernel.comms.open(id);\n",
              "      // Send a message to notify the kernel that we're ready.\n",
              "      channel.send({})\n",
              "\n",
              "      for await (const message of channel.messages) {\n",
              "        // Send a message to notify the kernel that we're ready.\n",
              "        channel.send({})\n",
              "        if (message.buffers) {\n",
              "          for (const buffer of message.buffers) {\n",
              "            buffers.push(buffer);\n",
              "            downloaded += buffer.byteLength;\n",
              "            progress.value = downloaded;\n",
              "          }\n",
              "        }\n",
              "      }\n",
              "      const blob = new Blob(buffers, {type: 'application/binary'});\n",
              "      const a = document.createElement('a');\n",
              "      a.href = window.URL.createObjectURL(blob);\n",
              "      a.download = filename;\n",
              "      div.appendChild(a);\n",
              "      a.click();\n",
              "      div.remove();\n",
              "    }\n",
              "  "
            ]
          },
          "metadata": {}
        },
        {
          "output_type": "display_data",
          "data": {
            "text/plain": [
              "<IPython.core.display.Javascript object>"
            ],
            "application/javascript": [
              "download(\"download_1c196f34-fd0a-4f9d-9137-d2445dc0d1e8\", \"sample1.txt\", 37945)"
            ]
          },
          "metadata": {}
        }
      ]
    },
    {
      "cell_type": "code",
      "source": [
        "metric = load_metric(\"rouge\")"
      ],
      "metadata": {
        "id": "NWYpgDm9_ffR"
      },
      "execution_count": null,
      "outputs": []
    },
    {
      "cell_type": "code",
      "source": [
        "def calc_rouge_scores(candidates, references):\n",
        "    result = metric.compute(predictions=candidates, references=references, use_stemmer=True)\n",
        "    result = {key: round(value.mid.fmeasure * 100, 1) for key, value in result.items()}\n",
        "    return result"
      ],
      "metadata": {
        "id": "A6gwwfTl_x-v"
      },
      "execution_count": null,
      "outputs": []
    },
    {
      "cell_type": "code",
      "source": [
        "calc_rouge_scores(candidate_summaries, ref_summaries)"
      ],
      "metadata": {
        "id": "WIUjGjY3EBD6",
        "colab": {
          "base_uri": "https://localhost:8080/"
        },
        "outputId": "fc165bf6-af76-4642-921f-6bdfe6ba063e"
      },
      "execution_count": null,
      "outputs": [
        {
          "output_type": "execute_result",
          "data": {
            "text/plain": [
              "{'rouge1': 43.2, 'rouge2': 21.4, 'rougeL': 31.6, 'rougeLsum': 37.2}"
            ]
          },
          "metadata": {},
          "execution_count": 37
        }
      ]
    }
  ]
}